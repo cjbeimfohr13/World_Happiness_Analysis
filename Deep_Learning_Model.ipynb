{
 "cells": [
  {
   "cell_type": "code",
   "execution_count": 1,
   "metadata": {},
   "outputs": [],
   "source": [
    "# Set the seed value for the notebook so the results are reproducible\n",
    "from numpy.random import seed\n",
    "seed(1)"
   ]
  },
  {
   "cell_type": "code",
   "execution_count": 2,
   "metadata": {},
   "outputs": [],
   "source": [
    "# Dependencies\n",
    "import numpy as np\n",
    "import pandas as pd"
   ]
  },
  {
   "cell_type": "code",
   "execution_count": 3,
   "metadata": {},
   "outputs": [],
   "source": [
    "import tensorflow"
   ]
  },
  {
   "cell_type": "code",
   "execution_count": 4,
   "metadata": {},
   "outputs": [
    {
     "data": {
      "text/html": [
       "<div>\n",
       "<style scoped>\n",
       "    .dataframe tbody tr th:only-of-type {\n",
       "        vertical-align: middle;\n",
       "    }\n",
       "\n",
       "    .dataframe tbody tr th {\n",
       "        vertical-align: top;\n",
       "    }\n",
       "\n",
       "    .dataframe thead th {\n",
       "        text-align: right;\n",
       "    }\n",
       "</style>\n",
       "<table border=\"1\" class=\"dataframe\">\n",
       "  <thead>\n",
       "    <tr style=\"text-align: right;\">\n",
       "      <th></th>\n",
       "      <th>overall_rank</th>\n",
       "      <th>country</th>\n",
       "      <th>happiness_score</th>\n",
       "      <th>gdp_per_capita</th>\n",
       "      <th>social_support</th>\n",
       "      <th>healthy_life_expectancy</th>\n",
       "      <th>freedom_choice</th>\n",
       "      <th>generosity</th>\n",
       "      <th>perceptions_of_corruption</th>\n",
       "      <th>happy_nothappy</th>\n",
       "    </tr>\n",
       "  </thead>\n",
       "  <tbody>\n",
       "    <tr>\n",
       "      <th>0</th>\n",
       "      <td>1</td>\n",
       "      <td>Finland</td>\n",
       "      <td>7.769</td>\n",
       "      <td>1.340</td>\n",
       "      <td>1.587</td>\n",
       "      <td>0.986</td>\n",
       "      <td>0.596</td>\n",
       "      <td>0.153</td>\n",
       "      <td>0.393</td>\n",
       "      <td>happy</td>\n",
       "    </tr>\n",
       "    <tr>\n",
       "      <th>1</th>\n",
       "      <td>2</td>\n",
       "      <td>Denmark</td>\n",
       "      <td>7.600</td>\n",
       "      <td>1.383</td>\n",
       "      <td>1.573</td>\n",
       "      <td>0.996</td>\n",
       "      <td>0.592</td>\n",
       "      <td>0.252</td>\n",
       "      <td>0.410</td>\n",
       "      <td>happy</td>\n",
       "    </tr>\n",
       "    <tr>\n",
       "      <th>2</th>\n",
       "      <td>3</td>\n",
       "      <td>Norway</td>\n",
       "      <td>7.554</td>\n",
       "      <td>1.488</td>\n",
       "      <td>1.582</td>\n",
       "      <td>1.028</td>\n",
       "      <td>0.603</td>\n",
       "      <td>0.271</td>\n",
       "      <td>0.341</td>\n",
       "      <td>happy</td>\n",
       "    </tr>\n",
       "    <tr>\n",
       "      <th>3</th>\n",
       "      <td>4</td>\n",
       "      <td>Iceland</td>\n",
       "      <td>7.494</td>\n",
       "      <td>1.380</td>\n",
       "      <td>1.624</td>\n",
       "      <td>1.026</td>\n",
       "      <td>0.591</td>\n",
       "      <td>0.354</td>\n",
       "      <td>0.118</td>\n",
       "      <td>happy</td>\n",
       "    </tr>\n",
       "    <tr>\n",
       "      <th>4</th>\n",
       "      <td>5</td>\n",
       "      <td>Netherlands</td>\n",
       "      <td>7.488</td>\n",
       "      <td>1.396</td>\n",
       "      <td>1.522</td>\n",
       "      <td>0.999</td>\n",
       "      <td>0.557</td>\n",
       "      <td>0.322</td>\n",
       "      <td>0.298</td>\n",
       "      <td>happy</td>\n",
       "    </tr>\n",
       "  </tbody>\n",
       "</table>\n",
       "</div>"
      ],
      "text/plain": [
       "   overall_rank      country  happiness_score  gdp_per_capita  social_support  \\\n",
       "0             1      Finland            7.769           1.340           1.587   \n",
       "1             2      Denmark            7.600           1.383           1.573   \n",
       "2             3       Norway            7.554           1.488           1.582   \n",
       "3             4      Iceland            7.494           1.380           1.624   \n",
       "4             5  Netherlands            7.488           1.396           1.522   \n",
       "\n",
       "   healthy_life_expectancy  freedom_choice  generosity  \\\n",
       "0                    0.986           0.596       0.153   \n",
       "1                    0.996           0.592       0.252   \n",
       "2                    1.028           0.603       0.271   \n",
       "3                    1.026           0.591       0.354   \n",
       "4                    0.999           0.557       0.322   \n",
       "\n",
       "   perceptions_of_corruption happy_nothappy  \n",
       "0                      0.393          happy  \n",
       "1                      0.410          happy  \n",
       "2                      0.341          happy  \n",
       "3                      0.118          happy  \n",
       "4                      0.298          happy  "
      ]
     },
     "execution_count": 4,
     "metadata": {},
     "output_type": "execute_result"
    }
   ],
   "source": [
    "clean_2019 = pd.read_csv('Resources/clean_2019.csv')\n",
    "clean_2019.head()\n",
    "clean_2019.drop([\"Unnamed: 0\"], axis=1).head()"
   ]
  },
  {
   "cell_type": "code",
   "execution_count": 5,
   "metadata": {},
   "outputs": [
    {
     "name": "stdout",
     "output_type": "stream",
     "text": [
      "(156, 9) (156,)\n"
     ]
    }
   ],
   "source": [
    "X = clean_2019.drop([\"happy_nothappy\",\"country\"], axis=1)\n",
    "y = clean_2019[\"happy_nothappy\"]\n",
    "print(X.shape, y.shape)"
   ]
  },
  {
   "cell_type": "code",
   "execution_count": 6,
   "metadata": {},
   "outputs": [],
   "source": [
    "from sklearn.model_selection import train_test_split\n",
    "from sklearn.preprocessing import LabelEncoder, MinMaxScaler\n",
    "from tensorflow.keras.utils import to_categorical"
   ]
  },
  {
   "cell_type": "code",
   "execution_count": 7,
   "metadata": {},
   "outputs": [],
   "source": [
    "X_train, X_test, y_train, y_test = train_test_split(\n",
    "    X, y, random_state=1)"
   ]
  },
  {
   "cell_type": "code",
   "execution_count": 8,
   "metadata": {},
   "outputs": [],
   "source": [
    "X_scaler = MinMaxScaler().fit(X_train)\n",
    "X_train_scaled = X_scaler.transform(X_train)\n",
    "X_test_scaled = X_scaler.transform(X_test)"
   ]
  },
  {
   "cell_type": "code",
   "execution_count": 9,
   "metadata": {},
   "outputs": [],
   "source": [
    "# Step 1: Label-encode data set\n",
    "label_encoder = LabelEncoder()\n",
    "label_encoder.fit(y_train)\n",
    "encoded_y_train = label_encoder.transform(y_train)\n",
    "encoded_y_test = label_encoder.transform(y_test)"
   ]
  },
  {
   "cell_type": "code",
   "execution_count": 10,
   "metadata": {},
   "outputs": [],
   "source": [
    "# Step 2: Convert encoded labels to one-hot-encoding\n",
    "y_train_categorical = to_categorical(encoded_y_train)\n",
    "y_test_categorical = to_categorical(encoded_y_test)"
   ]
  },
  {
   "cell_type": "code",
   "execution_count": 11,
   "metadata": {},
   "outputs": [],
   "source": [
    "from tensorflow.keras.models import Sequential\n",
    "from tensorflow.keras.layers import Dense"
   ]
  },
  {
   "cell_type": "code",
   "execution_count": 12,
   "metadata": {},
   "outputs": [],
   "source": [
    "# Create model and add layers\n",
    "model = Sequential()\n",
    "model.add(Dense(units=100, activation='relu', input_dim = X_train.shape[1]))\n",
    "model.add(Dense(units=100, activation='relu'))\n",
    "model.add(Dense(units=2, activation='softmax'))"
   ]
  },
  {
   "cell_type": "code",
   "execution_count": 13,
   "metadata": {},
   "outputs": [],
   "source": [
    "# Compile and fit the model\n",
    "model.compile(optimizer='adam',\n",
    "              loss='categorical_crossentropy',\n",
    "              metrics=['accuracy'])"
   ]
  },
  {
   "cell_type": "code",
   "execution_count": 14,
   "metadata": {},
   "outputs": [
    {
     "name": "stdout",
     "output_type": "stream",
     "text": [
      "Model: \"sequential\"\n",
      "_________________________________________________________________\n",
      "Layer (type)                 Output Shape              Param #   \n",
      "=================================================================\n",
      "dense (Dense)                (None, 100)               1000      \n",
      "_________________________________________________________________\n",
      "dense_1 (Dense)              (None, 100)               10100     \n",
      "_________________________________________________________________\n",
      "dense_2 (Dense)              (None, 2)                 202       \n",
      "=================================================================\n",
      "Total params: 11,302\n",
      "Trainable params: 11,302\n",
      "Non-trainable params: 0\n",
      "_________________________________________________________________\n"
     ]
    }
   ],
   "source": [
    "model.summary()"
   ]
  },
  {
   "cell_type": "code",
   "execution_count": 15,
   "metadata": {},
   "outputs": [
    {
     "name": "stdout",
     "output_type": "stream",
     "text": [
      "Epoch 1/30\n",
      "4/4 - 1s - loss: 0.7235 - accuracy: 0.4786\n",
      "Epoch 2/30\n",
      "4/4 - 0s - loss: 0.6475 - accuracy: 0.9145\n",
      "Epoch 3/30\n",
      "4/4 - 0s - loss: 0.5924 - accuracy: 0.9487\n",
      "Epoch 4/30\n",
      "4/4 - 0s - loss: 0.5454 - accuracy: 0.9231\n",
      "Epoch 5/30\n",
      "4/4 - 0s - loss: 0.4985 - accuracy: 0.9231\n",
      "Epoch 6/30\n",
      "4/4 - 0s - loss: 0.4505 - accuracy: 0.9231\n",
      "Epoch 7/30\n",
      "4/4 - 0s - loss: 0.4018 - accuracy: 0.9231\n",
      "Epoch 8/30\n",
      "4/4 - 0s - loss: 0.3553 - accuracy: 0.9487\n",
      "Epoch 9/30\n",
      "4/4 - 0s - loss: 0.3114 - accuracy: 0.9573\n",
      "Epoch 10/30\n",
      "4/4 - 0s - loss: 0.2719 - accuracy: 0.9573\n",
      "Epoch 11/30\n",
      "4/4 - 0s - loss: 0.2381 - accuracy: 0.9658\n",
      "Epoch 12/30\n",
      "4/4 - 0s - loss: 0.2102 - accuracy: 0.9658\n",
      "Epoch 13/30\n",
      "4/4 - 0s - loss: 0.1874 - accuracy: 0.9658\n",
      "Epoch 14/30\n",
      "4/4 - 0s - loss: 0.1678 - accuracy: 0.9573\n",
      "Epoch 15/30\n",
      "4/4 - 0s - loss: 0.1538 - accuracy: 0.9658\n",
      "Epoch 16/30\n",
      "4/4 - 0s - loss: 0.1411 - accuracy: 0.9658\n",
      "Epoch 17/30\n",
      "4/4 - 0s - loss: 0.1305 - accuracy: 0.9573\n",
      "Epoch 18/30\n",
      "4/4 - 0s - loss: 0.1226 - accuracy: 0.9658\n",
      "Epoch 19/30\n",
      "4/4 - 0s - loss: 0.1165 - accuracy: 0.9573\n",
      "Epoch 20/30\n",
      "4/4 - 0s - loss: 0.1101 - accuracy: 0.9573\n",
      "Epoch 21/30\n",
      "4/4 - 0s - loss: 0.1048 - accuracy: 0.9744\n",
      "Epoch 22/30\n",
      "4/4 - 0s - loss: 0.1009 - accuracy: 0.9744\n",
      "Epoch 23/30\n",
      "4/4 - 0s - loss: 0.0964 - accuracy: 0.9658\n",
      "Epoch 24/30\n",
      "4/4 - 0s - loss: 0.0931 - accuracy: 0.9658\n",
      "Epoch 25/30\n",
      "4/4 - 0s - loss: 0.0899 - accuracy: 0.9658\n",
      "Epoch 26/30\n",
      "4/4 - 0s - loss: 0.0894 - accuracy: 0.9744\n",
      "Epoch 27/30\n",
      "4/4 - 0s - loss: 0.0829 - accuracy: 0.9658\n",
      "Epoch 28/30\n",
      "4/4 - 0s - loss: 0.0825 - accuracy: 0.9658\n",
      "Epoch 29/30\n",
      "4/4 - 0s - loss: 0.0802 - accuracy: 0.9658\n",
      "Epoch 30/30\n",
      "4/4 - 0s - loss: 0.0773 - accuracy: 0.9658\n"
     ]
    },
    {
     "data": {
      "text/plain": [
       "<tensorflow.python.keras.callbacks.History at 0x27e45071148>"
      ]
     },
     "execution_count": 15,
     "metadata": {},
     "output_type": "execute_result"
    }
   ],
   "source": [
    "model.fit(\n",
    "    X_train_scaled,\n",
    "    y_train_categorical,\n",
    "    epochs=30,\n",
    "    shuffle=True,\n",
    "    verbose=2\n",
    ")"
   ]
  },
  {
   "cell_type": "code",
   "execution_count": 16,
   "metadata": {},
   "outputs": [
    {
     "name": "stdout",
     "output_type": "stream",
     "text": [
      "2/2 - 1s - loss: 0.1025 - accuracy: 0.9487\n",
      "Normal Neural Network - Loss: 0.1024763286113739, Accuracy: 0.9487179517745972\n"
     ]
    }
   ],
   "source": [
    "model_loss, model_accuracy = model.evaluate(\n",
    "    X_test_scaled, y_test_categorical, verbose=2)\n",
    "print(\n",
    "    f\"Normal Neural Network - Loss: {model_loss}, Accuracy: {model_accuracy}\")"
   ]
  },
  {
   "cell_type": "code",
   "execution_count": null,
   "metadata": {},
   "outputs": [],
   "source": []
  }
 ],
 "metadata": {
  "kernelspec": {
   "display_name": "Python 3",
   "language": "python",
   "name": "python3"
  },
  "language_info": {
   "codemirror_mode": {
    "name": "ipython",
    "version": 3
   },
   "file_extension": ".py",
   "mimetype": "text/x-python",
   "name": "python",
   "nbconvert_exporter": "python",
   "pygments_lexer": "ipython3",
   "version": "3.7.9"
  }
 },
 "nbformat": 4,
 "nbformat_minor": 4
}
