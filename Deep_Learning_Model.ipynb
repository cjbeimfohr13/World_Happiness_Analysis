{
 "cells": [
  {
   "cell_type": "code",
   "execution_count": 1,
   "metadata": {},
   "outputs": [],
   "source": [
    "# Set the seed value for the notebook so the results are reproducible\n",
    "from numpy.random import seed\n",
    "seed(1)"
   ]
  },
  {
   "cell_type": "code",
   "execution_count": 2,
   "metadata": {},
   "outputs": [],
   "source": [
    "# Dependencies\n",
    "import numpy as np\n",
    "import pandas as pd"
   ]
  },
  {
   "cell_type": "code",
   "execution_count": 3,
   "metadata": {},
   "outputs": [],
   "source": [
    "import tensorflow"
   ]
  },
  {
   "cell_type": "code",
   "execution_count": 9,
   "metadata": {},
   "outputs": [
    {
     "data": {
      "text/html": [
       "<div>\n",
       "<style scoped>\n",
       "    .dataframe tbody tr th:only-of-type {\n",
       "        vertical-align: middle;\n",
       "    }\n",
       "\n",
       "    .dataframe tbody tr th {\n",
       "        vertical-align: top;\n",
       "    }\n",
       "\n",
       "    .dataframe thead th {\n",
       "        text-align: right;\n",
       "    }\n",
       "</style>\n",
       "<table border=\"1\" class=\"dataframe\">\n",
       "  <thead>\n",
       "    <tr style=\"text-align: right;\">\n",
       "      <th></th>\n",
       "      <th>overall_rank</th>\n",
       "      <th>country</th>\n",
       "      <th>happiness_score</th>\n",
       "      <th>gdp_per_capita</th>\n",
       "      <th>social_support</th>\n",
       "      <th>healthy_life_expectancy</th>\n",
       "      <th>freedom_choice</th>\n",
       "      <th>generosity</th>\n",
       "      <th>perceptions_of_corruption</th>\n",
       "      <th>happy_nothappy</th>\n",
       "    </tr>\n",
       "  </thead>\n",
       "  <tbody>\n",
       "    <tr>\n",
       "      <th>0</th>\n",
       "      <td>1</td>\n",
       "      <td>Finland</td>\n",
       "      <td>7.769</td>\n",
       "      <td>1.340</td>\n",
       "      <td>1.587</td>\n",
       "      <td>0.986</td>\n",
       "      <td>0.596</td>\n",
       "      <td>0.153</td>\n",
       "      <td>0.393</td>\n",
       "      <td>happy</td>\n",
       "    </tr>\n",
       "    <tr>\n",
       "      <th>1</th>\n",
       "      <td>2</td>\n",
       "      <td>Denmark</td>\n",
       "      <td>7.600</td>\n",
       "      <td>1.383</td>\n",
       "      <td>1.573</td>\n",
       "      <td>0.996</td>\n",
       "      <td>0.592</td>\n",
       "      <td>0.252</td>\n",
       "      <td>0.410</td>\n",
       "      <td>happy</td>\n",
       "    </tr>\n",
       "    <tr>\n",
       "      <th>2</th>\n",
       "      <td>3</td>\n",
       "      <td>Norway</td>\n",
       "      <td>7.554</td>\n",
       "      <td>1.488</td>\n",
       "      <td>1.582</td>\n",
       "      <td>1.028</td>\n",
       "      <td>0.603</td>\n",
       "      <td>0.271</td>\n",
       "      <td>0.341</td>\n",
       "      <td>happy</td>\n",
       "    </tr>\n",
       "    <tr>\n",
       "      <th>3</th>\n",
       "      <td>4</td>\n",
       "      <td>Iceland</td>\n",
       "      <td>7.494</td>\n",
       "      <td>1.380</td>\n",
       "      <td>1.624</td>\n",
       "      <td>1.026</td>\n",
       "      <td>0.591</td>\n",
       "      <td>0.354</td>\n",
       "      <td>0.118</td>\n",
       "      <td>happy</td>\n",
       "    </tr>\n",
       "    <tr>\n",
       "      <th>4</th>\n",
       "      <td>5</td>\n",
       "      <td>Netherlands</td>\n",
       "      <td>7.488</td>\n",
       "      <td>1.396</td>\n",
       "      <td>1.522</td>\n",
       "      <td>0.999</td>\n",
       "      <td>0.557</td>\n",
       "      <td>0.322</td>\n",
       "      <td>0.298</td>\n",
       "      <td>happy</td>\n",
       "    </tr>\n",
       "  </tbody>\n",
       "</table>\n",
       "</div>"
      ],
      "text/plain": [
       "   overall_rank      country  happiness_score  gdp_per_capita  social_support  \\\n",
       "0             1      Finland            7.769           1.340           1.587   \n",
       "1             2      Denmark            7.600           1.383           1.573   \n",
       "2             3       Norway            7.554           1.488           1.582   \n",
       "3             4      Iceland            7.494           1.380           1.624   \n",
       "4             5  Netherlands            7.488           1.396           1.522   \n",
       "\n",
       "   healthy_life_expectancy  freedom_choice  generosity  \\\n",
       "0                    0.986           0.596       0.153   \n",
       "1                    0.996           0.592       0.252   \n",
       "2                    1.028           0.603       0.271   \n",
       "3                    1.026           0.591       0.354   \n",
       "4                    0.999           0.557       0.322   \n",
       "\n",
       "   perceptions_of_corruption happy_nothappy  \n",
       "0                      0.393          happy  \n",
       "1                      0.410          happy  \n",
       "2                      0.341          happy  \n",
       "3                      0.118          happy  \n",
       "4                      0.298          happy  "
      ]
     },
     "execution_count": 9,
     "metadata": {},
     "output_type": "execute_result"
    }
   ],
   "source": [
    "clean_2019 = pd.read_csv('Resources/clean_2019.csv')\n",
    "clean_2019.head()\n",
    "clean_2019.drop([\"Unnamed: 0\"], axis=1).head()"
   ]
  },
  {
   "cell_type": "code",
   "execution_count": 15,
   "metadata": {},
   "outputs": [
    {
     "name": "stdout",
     "output_type": "stream",
     "text": [
      "(156, 9) (156,)\n"
     ]
    }
   ],
   "source": [
    "X = clean_2019.drop([\"happy_nothappy\",\"country\"], axis=1)\n",
    "y = clean_2019[\"happy_nothappy\"]\n",
    "print(X.shape, y.shape)"
   ]
  },
  {
   "cell_type": "code",
   "execution_count": 16,
   "metadata": {},
   "outputs": [],
   "source": [
    "from sklearn.model_selection import train_test_split\n",
    "from sklearn.preprocessing import LabelEncoder, MinMaxScaler\n",
    "from tensorflow.keras.utils import to_categorical"
   ]
  },
  {
   "cell_type": "code",
   "execution_count": 17,
   "metadata": {},
   "outputs": [],
   "source": [
    "X_train, X_test, y_train, y_test = train_test_split(\n",
    "    X, y, random_state=1)"
   ]
  },
  {
   "cell_type": "code",
   "execution_count": 18,
   "metadata": {},
   "outputs": [],
   "source": [
    "X_scaler = MinMaxScaler().fit(X_train)\n",
    "X_train_scaled = X_scaler.transform(X_train)\n",
    "X_test_scaled = X_scaler.transform(X_test)"
   ]
  },
  {
   "cell_type": "code",
   "execution_count": 19,
   "metadata": {},
   "outputs": [],
   "source": [
    "# Step 1: Label-encode data set\n",
    "label_encoder = LabelEncoder()\n",
    "label_encoder.fit(y_train)\n",
    "encoded_y_train = label_encoder.transform(y_train)\n",
    "encoded_y_test = label_encoder.transform(y_test)"
   ]
  },
  {
   "cell_type": "code",
   "execution_count": 20,
   "metadata": {},
   "outputs": [],
   "source": [
    "# Step 2: Convert encoded labels to one-hot-encoding\n",
    "y_train_categorical = to_categorical(encoded_y_train)\n",
    "y_test_categorical = to_categorical(encoded_y_test)"
   ]
  },
  {
   "cell_type": "code",
   "execution_count": 21,
   "metadata": {},
   "outputs": [],
   "source": [
    "from tensorflow.keras.models import Sequential\n",
    "from tensorflow.keras.layers import Dense"
   ]
  },
  {
   "cell_type": "code",
   "execution_count": 36,
   "metadata": {},
   "outputs": [],
   "source": [
    "# Create model and add layers\n",
    "model = Sequential()\n",
    "model.add(Dense(units=100, activation='relu', input_dim = X_train.shape[1]))\n",
    "model.add(Dense(units=100, activation='relu'))\n",
    "model.add(Dense(units=2, activation='softmax'))"
   ]
  },
  {
   "cell_type": "code",
   "execution_count": 37,
   "metadata": {},
   "outputs": [],
   "source": [
    "# Compile and fit the model\n",
    "model.compile(optimizer='adam',\n",
    "              loss='categorical_crossentropy',\n",
    "              metrics=['accuracy'])"
   ]
  },
  {
   "cell_type": "code",
   "execution_count": 38,
   "metadata": {},
   "outputs": [
    {
     "name": "stdout",
     "output_type": "stream",
     "text": [
      "Model: \"sequential_3\"\n",
      "_________________________________________________________________\n",
      "Layer (type)                 Output Shape              Param #   \n",
      "=================================================================\n",
      "dense_9 (Dense)              (None, 100)               1000      \n",
      "_________________________________________________________________\n",
      "dense_10 (Dense)             (None, 100)               10100     \n",
      "_________________________________________________________________\n",
      "dense_11 (Dense)             (None, 2)                 202       \n",
      "=================================================================\n",
      "Total params: 11,302\n",
      "Trainable params: 11,302\n",
      "Non-trainable params: 0\n",
      "_________________________________________________________________\n"
     ]
    }
   ],
   "source": [
    "model.summary()"
   ]
  },
  {
   "cell_type": "code",
   "execution_count": 39,
   "metadata": {},
   "outputs": [
    {
     "name": "stdout",
     "output_type": "stream",
     "text": [
      "Epoch 1/60\n",
      "4/4 - 1s - loss: 0.6971 - accuracy: 0.4957\n",
      "Epoch 2/60\n",
      "4/4 - 0s - loss: 0.6298 - accuracy: 0.7607\n",
      "Epoch 3/60\n",
      "4/4 - 0s - loss: 0.5695 - accuracy: 0.9573\n",
      "Epoch 4/60\n",
      "4/4 - 0s - loss: 0.5097 - accuracy: 0.9487\n",
      "Epoch 5/60\n",
      "4/4 - 0s - loss: 0.4464 - accuracy: 0.9573\n",
      "Epoch 6/60\n",
      "4/4 - 0s - loss: 0.3879 - accuracy: 0.9744\n",
      "Epoch 7/60\n",
      "4/4 - 0s - loss: 0.3339 - accuracy: 0.9744\n",
      "Epoch 8/60\n",
      "4/4 - 0s - loss: 0.2852 - accuracy: 0.9744\n",
      "Epoch 9/60\n",
      "4/4 - 0s - loss: 0.2449 - accuracy: 0.9744\n",
      "Epoch 10/60\n",
      "4/4 - 0s - loss: 0.2104 - accuracy: 0.9658\n",
      "Epoch 11/60\n",
      "4/4 - 0s - loss: 0.1815 - accuracy: 0.9744\n",
      "Epoch 12/60\n",
      "4/4 - 0s - loss: 0.1593 - accuracy: 0.9744\n",
      "Epoch 13/60\n",
      "4/4 - 0s - loss: 0.1421 - accuracy: 0.9658\n",
      "Epoch 14/60\n",
      "4/4 - 0s - loss: 0.1292 - accuracy: 0.9658\n",
      "Epoch 15/60\n",
      "4/4 - 0s - loss: 0.1185 - accuracy: 0.9744\n",
      "Epoch 16/60\n",
      "4/4 - 0s - loss: 0.1103 - accuracy: 0.9744\n",
      "Epoch 17/60\n",
      "4/4 - 0s - loss: 0.1042 - accuracy: 0.9744\n",
      "Epoch 18/60\n",
      "4/4 - 0s - loss: 0.0982 - accuracy: 0.9744\n",
      "Epoch 19/60\n",
      "4/4 - 0s - loss: 0.0940 - accuracy: 0.9744\n",
      "Epoch 20/60\n",
      "4/4 - 0s - loss: 0.0898 - accuracy: 0.9744\n",
      "Epoch 21/60\n",
      "4/4 - 0s - loss: 0.0886 - accuracy: 0.9658\n",
      "Epoch 22/60\n",
      "4/4 - 0s - loss: 0.0826 - accuracy: 0.9744\n",
      "Epoch 23/60\n",
      "4/4 - 0s - loss: 0.0834 - accuracy: 0.9658\n",
      "Epoch 24/60\n",
      "4/4 - 0s - loss: 0.0801 - accuracy: 0.9744\n",
      "Epoch 25/60\n",
      "4/4 - 0s - loss: 0.0767 - accuracy: 0.9744\n",
      "Epoch 26/60\n",
      "4/4 - 0s - loss: 0.0735 - accuracy: 0.9744\n",
      "Epoch 27/60\n",
      "4/4 - 0s - loss: 0.0723 - accuracy: 0.9744\n",
      "Epoch 28/60\n",
      "4/4 - 0s - loss: 0.0705 - accuracy: 0.9744\n",
      "Epoch 29/60\n",
      "4/4 - 0s - loss: 0.0695 - accuracy: 0.9744\n",
      "Epoch 30/60\n",
      "4/4 - 0s - loss: 0.0670 - accuracy: 0.9744\n",
      "Epoch 31/60\n",
      "4/4 - 0s - loss: 0.0654 - accuracy: 0.9744\n",
      "Epoch 32/60\n",
      "4/4 - 0s - loss: 0.0642 - accuracy: 0.9744\n",
      "Epoch 33/60\n",
      "4/4 - 0s - loss: 0.0625 - accuracy: 0.9744\n",
      "Epoch 34/60\n",
      "4/4 - 0s - loss: 0.0622 - accuracy: 0.9658\n",
      "Epoch 35/60\n",
      "4/4 - 0s - loss: 0.0626 - accuracy: 0.9744\n",
      "Epoch 36/60\n",
      "4/4 - 0s - loss: 0.0624 - accuracy: 0.9658\n",
      "Epoch 37/60\n",
      "4/4 - 0s - loss: 0.0573 - accuracy: 0.9744\n",
      "Epoch 38/60\n",
      "4/4 - 0s - loss: 0.0613 - accuracy: 0.9829\n",
      "Epoch 39/60\n",
      "4/4 - 0s - loss: 0.0585 - accuracy: 0.9744\n",
      "Epoch 40/60\n",
      "4/4 - 0s - loss: 0.0570 - accuracy: 0.9658\n",
      "Epoch 41/60\n",
      "4/4 - 0s - loss: 0.0538 - accuracy: 0.9744\n",
      "Epoch 42/60\n",
      "4/4 - 0s - loss: 0.0546 - accuracy: 0.9829\n",
      "Epoch 43/60\n",
      "4/4 - 0s - loss: 0.0539 - accuracy: 0.9829\n",
      "Epoch 44/60\n",
      "4/4 - 0s - loss: 0.0515 - accuracy: 0.9744\n",
      "Epoch 45/60\n",
      "4/4 - 0s - loss: 0.0529 - accuracy: 0.9744\n",
      "Epoch 46/60\n",
      "4/4 - 0s - loss: 0.0509 - accuracy: 0.9829\n",
      "Epoch 47/60\n",
      "4/4 - 0s - loss: 0.0518 - accuracy: 0.9829\n",
      "Epoch 48/60\n",
      "4/4 - 0s - loss: 0.0480 - accuracy: 0.9829\n",
      "Epoch 49/60\n",
      "4/4 - 0s - loss: 0.0475 - accuracy: 0.9744\n",
      "Epoch 50/60\n",
      "4/4 - 0s - loss: 0.0472 - accuracy: 0.9744\n",
      "Epoch 51/60\n",
      "4/4 - 0s - loss: 0.0451 - accuracy: 0.9829\n",
      "Epoch 52/60\n",
      "4/4 - 0s - loss: 0.0448 - accuracy: 0.9829\n",
      "Epoch 53/60\n",
      "4/4 - 0s - loss: 0.0447 - accuracy: 0.9829\n",
      "Epoch 54/60\n",
      "4/4 - 0s - loss: 0.0467 - accuracy: 0.9744\n",
      "Epoch 55/60\n",
      "4/4 - 0s - loss: 0.0467 - accuracy: 0.9658\n",
      "Epoch 56/60\n",
      "4/4 - 0s - loss: 0.0436 - accuracy: 0.9829\n",
      "Epoch 57/60\n",
      "4/4 - 0s - loss: 0.0425 - accuracy: 0.9829\n",
      "Epoch 58/60\n",
      "4/4 - 0s - loss: 0.0424 - accuracy: 0.9829\n",
      "Epoch 59/60\n",
      "4/4 - 0s - loss: 0.0404 - accuracy: 0.9829\n",
      "Epoch 60/60\n",
      "4/4 - 0s - loss: 0.0403 - accuracy: 0.9829\n"
     ]
    },
    {
     "data": {
      "text/plain": [
       "<tensorflow.python.keras.callbacks.History at 0x23a76af52c8>"
      ]
     },
     "execution_count": 39,
     "metadata": {},
     "output_type": "execute_result"
    }
   ],
   "source": [
    "model.fit(\n",
    "    X_train_scaled,\n",
    "    y_train_categorical,\n",
    "    epochs=60,\n",
    "    shuffle=True,\n",
    "    verbose=2\n",
    ")"
   ]
  },
  {
   "cell_type": "code",
   "execution_count": 41,
   "metadata": {},
   "outputs": [
    {
     "name": "stdout",
     "output_type": "stream",
     "text": [
      "2/2 - 0s - loss: 0.0597 - accuracy: 1.0000\n",
      "Normal Neural Network - Loss: 0.059693869203329086, Accuracy: 1.0\n"
     ]
    }
   ],
   "source": [
    "model_loss, model_accuracy = model.evaluate(\n",
    "    X_test_scaled, y_test_categorical, verbose=2)\n",
    "print(\n",
    "    f\"Normal Neural Network - Loss: {model_loss}, Accuracy: {model_accuracy}\")"
   ]
  },
  {
   "cell_type": "code",
   "execution_count": null,
   "metadata": {},
   "outputs": [],
   "source": []
  }
 ],
 "metadata": {
  "kernelspec": {
   "display_name": "Python 3",
   "language": "python",
   "name": "python3"
  },
  "language_info": {
   "codemirror_mode": {
    "name": "ipython",
    "version": 3
   },
   "file_extension": ".py",
   "mimetype": "text/x-python",
   "name": "python",
   "nbconvert_exporter": "python",
   "pygments_lexer": "ipython3",
   "version": "3.7.6"
  }
 },
 "nbformat": 4,
 "nbformat_minor": 4
}
