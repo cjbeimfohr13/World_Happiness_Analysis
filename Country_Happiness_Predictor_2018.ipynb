{
 "cells": [
  {
   "cell_type": "code",
   "execution_count": 1,
   "metadata": {},
   "outputs": [],
   "source": [
    "%matplotlib inline\n",
    "import matplotlib.pyplot as plt\n",
    "import numpy as np\n",
    "import pandas as pd"
   ]
  },
  {
   "cell_type": "code",
   "execution_count": 2,
   "metadata": {},
   "outputs": [],
   "source": [
    "from sklearn.linear_model import LinearRegression\n",
    "from sklearn.model_selection import train_test_split"
   ]
  },
  {
   "cell_type": "code",
   "execution_count": 5,
   "metadata": {},
   "outputs": [
    {
     "output_type": "execute_result",
     "data": {
      "text/plain": [
       "     Unnamed: 0  overall_rank                   country  happiness_score  \\\n",
       "150         151           152                     Yemen            3.355   \n",
       "151         152           153                  Tanzania            3.303   \n",
       "152         153           154               South Sudan            3.254   \n",
       "153         154           155  Central African Republic            3.083   \n",
       "154         155           156                   Burundi            2.905   \n",
       "\n",
       "     gdp_per_capita  social_support  healthy_life_expectancy  freedom_choice  \\\n",
       "150           0.442           1.073                    0.343           0.244   \n",
       "151           0.455           0.991                    0.381           0.481   \n",
       "152           0.337           0.608                    0.177           0.112   \n",
       "153           0.024           0.000                    0.010           0.305   \n",
       "154           0.091           0.627                    0.145           0.065   \n",
       "\n",
       "     generosity  perceptions_of_corruption  \n",
       "150       0.083                      0.064  \n",
       "151       0.270                      0.097  \n",
       "152       0.224                      0.106  \n",
       "153       0.218                      0.038  \n",
       "154       0.149                      0.076  "
      ],
      "text/html": "<div>\n<style scoped>\n    .dataframe tbody tr th:only-of-type {\n        vertical-align: middle;\n    }\n\n    .dataframe tbody tr th {\n        vertical-align: top;\n    }\n\n    .dataframe thead th {\n        text-align: right;\n    }\n</style>\n<table border=\"1\" class=\"dataframe\">\n  <thead>\n    <tr style=\"text-align: right;\">\n      <th></th>\n      <th>Unnamed: 0</th>\n      <th>overall_rank</th>\n      <th>country</th>\n      <th>happiness_score</th>\n      <th>gdp_per_capita</th>\n      <th>social_support</th>\n      <th>healthy_life_expectancy</th>\n      <th>freedom_choice</th>\n      <th>generosity</th>\n      <th>perceptions_of_corruption</th>\n    </tr>\n  </thead>\n  <tbody>\n    <tr>\n      <th>150</th>\n      <td>151</td>\n      <td>152</td>\n      <td>Yemen</td>\n      <td>3.355</td>\n      <td>0.442</td>\n      <td>1.073</td>\n      <td>0.343</td>\n      <td>0.244</td>\n      <td>0.083</td>\n      <td>0.064</td>\n    </tr>\n    <tr>\n      <th>151</th>\n      <td>152</td>\n      <td>153</td>\n      <td>Tanzania</td>\n      <td>3.303</td>\n      <td>0.455</td>\n      <td>0.991</td>\n      <td>0.381</td>\n      <td>0.481</td>\n      <td>0.270</td>\n      <td>0.097</td>\n    </tr>\n    <tr>\n      <th>152</th>\n      <td>153</td>\n      <td>154</td>\n      <td>South Sudan</td>\n      <td>3.254</td>\n      <td>0.337</td>\n      <td>0.608</td>\n      <td>0.177</td>\n      <td>0.112</td>\n      <td>0.224</td>\n      <td>0.106</td>\n    </tr>\n    <tr>\n      <th>153</th>\n      <td>154</td>\n      <td>155</td>\n      <td>Central African Republic</td>\n      <td>3.083</td>\n      <td>0.024</td>\n      <td>0.000</td>\n      <td>0.010</td>\n      <td>0.305</td>\n      <td>0.218</td>\n      <td>0.038</td>\n    </tr>\n    <tr>\n      <th>154</th>\n      <td>155</td>\n      <td>156</td>\n      <td>Burundi</td>\n      <td>2.905</td>\n      <td>0.091</td>\n      <td>0.627</td>\n      <td>0.145</td>\n      <td>0.065</td>\n      <td>0.149</td>\n      <td>0.076</td>\n    </tr>\n  </tbody>\n</table>\n</div>"
     },
     "metadata": {},
     "execution_count": 5
    }
   ],
   "source": [
    "file_name=\"Resources/clean_2018.csv\"\n",
    "clean_2018=pd.read_csv(file_name)\n",
    "# clean_2018.drop(\"Unnamed:0\")\n",
    "# clean_2018.head()\n",
    "clean_2018.tail()\n",
    "\n",
    "# They have no impact on the total score reported for each country, but they do explain why some countries rank higher than others."
   ]
  },
  {
   "cell_type": "code",
   "execution_count": 9,
   "metadata": {},
   "outputs": [],
   "source": [
    "cleaner_2018 = clean_2018.drop([\"Unnamed: 0\"], axis=1)"
   ]
  },
  {
   "cell_type": "code",
   "execution_count": 10,
   "metadata": {},
   "outputs": [
    {
     "output_type": "execute_result",
     "data": {
      "text/plain": [
       "       overall_rank  happiness_score  gdp_per_capita  social_support  \\\n",
       "count    155.000000       155.000000      155.000000      155.000000   \n",
       "mean      78.877419         5.366897        0.883677        1.216058   \n",
       "std       45.076463         1.117433        0.380942        0.301286   \n",
       "min        1.000000         2.905000        0.000000        0.000000   \n",
       "25%       40.500000         4.451500        0.612500        1.075500   \n",
       "50%       79.000000         5.358000        0.940000        1.258000   \n",
       "75%      117.500000         6.154000        1.192500        1.464000   \n",
       "max      156.000000         7.632000        1.649000        1.644000   \n",
       "\n",
       "       healthy_life_expectancy  freedom_choice  generosity  \\\n",
       "count               155.000000      155.000000  155.000000   \n",
       "mean                  0.596877        0.455606    0.180974   \n",
       "std                   0.248312        0.162367    0.098789   \n",
       "min                   0.000000        0.000000    0.000000   \n",
       "25%                   0.420500        0.357500    0.109000   \n",
       "50%                   0.643000        0.493000    0.173000   \n",
       "75%                   0.778500        0.579000    0.240000   \n",
       "max                   1.030000        0.724000    0.598000   \n",
       "\n",
       "       perceptions_of_corruption  \n",
       "count                 155.000000  \n",
       "mean                    0.112000  \n",
       "std                     0.096492  \n",
       "min                     0.000000  \n",
       "25%                     0.051000  \n",
       "50%                     0.082000  \n",
       "75%                     0.137000  \n",
       "max                     0.457000  "
      ],
      "text/html": "<div>\n<style scoped>\n    .dataframe tbody tr th:only-of-type {\n        vertical-align: middle;\n    }\n\n    .dataframe tbody tr th {\n        vertical-align: top;\n    }\n\n    .dataframe thead th {\n        text-align: right;\n    }\n</style>\n<table border=\"1\" class=\"dataframe\">\n  <thead>\n    <tr style=\"text-align: right;\">\n      <th></th>\n      <th>overall_rank</th>\n      <th>happiness_score</th>\n      <th>gdp_per_capita</th>\n      <th>social_support</th>\n      <th>healthy_life_expectancy</th>\n      <th>freedom_choice</th>\n      <th>generosity</th>\n      <th>perceptions_of_corruption</th>\n    </tr>\n  </thead>\n  <tbody>\n    <tr>\n      <th>count</th>\n      <td>155.000000</td>\n      <td>155.000000</td>\n      <td>155.000000</td>\n      <td>155.000000</td>\n      <td>155.000000</td>\n      <td>155.000000</td>\n      <td>155.000000</td>\n      <td>155.000000</td>\n    </tr>\n    <tr>\n      <th>mean</th>\n      <td>78.877419</td>\n      <td>5.366897</td>\n      <td>0.883677</td>\n      <td>1.216058</td>\n      <td>0.596877</td>\n      <td>0.455606</td>\n      <td>0.180974</td>\n      <td>0.112000</td>\n    </tr>\n    <tr>\n      <th>std</th>\n      <td>45.076463</td>\n      <td>1.117433</td>\n      <td>0.380942</td>\n      <td>0.301286</td>\n      <td>0.248312</td>\n      <td>0.162367</td>\n      <td>0.098789</td>\n      <td>0.096492</td>\n    </tr>\n    <tr>\n      <th>min</th>\n      <td>1.000000</td>\n      <td>2.905000</td>\n      <td>0.000000</td>\n      <td>0.000000</td>\n      <td>0.000000</td>\n      <td>0.000000</td>\n      <td>0.000000</td>\n      <td>0.000000</td>\n    </tr>\n    <tr>\n      <th>25%</th>\n      <td>40.500000</td>\n      <td>4.451500</td>\n      <td>0.612500</td>\n      <td>1.075500</td>\n      <td>0.420500</td>\n      <td>0.357500</td>\n      <td>0.109000</td>\n      <td>0.051000</td>\n    </tr>\n    <tr>\n      <th>50%</th>\n      <td>79.000000</td>\n      <td>5.358000</td>\n      <td>0.940000</td>\n      <td>1.258000</td>\n      <td>0.643000</td>\n      <td>0.493000</td>\n      <td>0.173000</td>\n      <td>0.082000</td>\n    </tr>\n    <tr>\n      <th>75%</th>\n      <td>117.500000</td>\n      <td>6.154000</td>\n      <td>1.192500</td>\n      <td>1.464000</td>\n      <td>0.778500</td>\n      <td>0.579000</td>\n      <td>0.240000</td>\n      <td>0.137000</td>\n    </tr>\n    <tr>\n      <th>max</th>\n      <td>156.000000</td>\n      <td>7.632000</td>\n      <td>1.649000</td>\n      <td>1.644000</td>\n      <td>1.030000</td>\n      <td>0.724000</td>\n      <td>0.598000</td>\n      <td>0.457000</td>\n    </tr>\n  </tbody>\n</table>\n</div>"
     },
     "metadata": {},
     "execution_count": 10
    }
   ],
   "source": [
    "cleaner_2018.describe()"
   ]
  },
  {
   "cell_type": "code",
   "execution_count": 11,
   "metadata": {},
   "outputs": [
    {
     "output_type": "execute_result",
     "data": {
      "text/plain": [
       "     overall_rank                   country  happiness_score  gdp_per_capita  \\\n",
       "0               1                   Finland            7.632           1.305   \n",
       "1               2                    Norway            7.594           1.456   \n",
       "2               3                   Denmark            7.555           1.351   \n",
       "3               4                   Iceland            7.495           1.343   \n",
       "4               5               Switzerland            7.487           1.420   \n",
       "..            ...                       ...              ...             ...   \n",
       "150           152                     Yemen            3.355           0.442   \n",
       "151           153                  Tanzania            3.303           0.455   \n",
       "152           154               South Sudan            3.254           0.337   \n",
       "153           155  Central African Republic            3.083           0.024   \n",
       "154           156                   Burundi            2.905           0.091   \n",
       "\n",
       "     social_support  healthy_life_expectancy  freedom_choice  generosity  \\\n",
       "0             1.592                    0.874           0.681       0.202   \n",
       "1             1.582                    0.861           0.686       0.286   \n",
       "2             1.590                    0.868           0.683       0.284   \n",
       "3             1.644                    0.914           0.677       0.353   \n",
       "4             1.549                    0.927           0.660       0.256   \n",
       "..              ...                      ...             ...         ...   \n",
       "150           1.073                    0.343           0.244       0.083   \n",
       "151           0.991                    0.381           0.481       0.270   \n",
       "152           0.608                    0.177           0.112       0.224   \n",
       "153           0.000                    0.010           0.305       0.218   \n",
       "154           0.627                    0.145           0.065       0.149   \n",
       "\n",
       "     perceptions_of_corruption happy_nothappy  \n",
       "0                        0.393          happy  \n",
       "1                        0.340          happy  \n",
       "2                        0.408          happy  \n",
       "3                        0.138          happy  \n",
       "4                        0.357          happy  \n",
       "..                         ...            ...  \n",
       "150                      0.064      not_happy  \n",
       "151                      0.097      not_happy  \n",
       "152                      0.106      not_happy  \n",
       "153                      0.038      not_happy  \n",
       "154                      0.076      not_happy  \n",
       "\n",
       "[155 rows x 10 columns]"
      ],
      "text/html": "<div>\n<style scoped>\n    .dataframe tbody tr th:only-of-type {\n        vertical-align: middle;\n    }\n\n    .dataframe tbody tr th {\n        vertical-align: top;\n    }\n\n    .dataframe thead th {\n        text-align: right;\n    }\n</style>\n<table border=\"1\" class=\"dataframe\">\n  <thead>\n    <tr style=\"text-align: right;\">\n      <th></th>\n      <th>overall_rank</th>\n      <th>country</th>\n      <th>happiness_score</th>\n      <th>gdp_per_capita</th>\n      <th>social_support</th>\n      <th>healthy_life_expectancy</th>\n      <th>freedom_choice</th>\n      <th>generosity</th>\n      <th>perceptions_of_corruption</th>\n      <th>happy_nothappy</th>\n    </tr>\n  </thead>\n  <tbody>\n    <tr>\n      <th>0</th>\n      <td>1</td>\n      <td>Finland</td>\n      <td>7.632</td>\n      <td>1.305</td>\n      <td>1.592</td>\n      <td>0.874</td>\n      <td>0.681</td>\n      <td>0.202</td>\n      <td>0.393</td>\n      <td>happy</td>\n    </tr>\n    <tr>\n      <th>1</th>\n      <td>2</td>\n      <td>Norway</td>\n      <td>7.594</td>\n      <td>1.456</td>\n      <td>1.582</td>\n      <td>0.861</td>\n      <td>0.686</td>\n      <td>0.286</td>\n      <td>0.340</td>\n      <td>happy</td>\n    </tr>\n    <tr>\n      <th>2</th>\n      <td>3</td>\n      <td>Denmark</td>\n      <td>7.555</td>\n      <td>1.351</td>\n      <td>1.590</td>\n      <td>0.868</td>\n      <td>0.683</td>\n      <td>0.284</td>\n      <td>0.408</td>\n      <td>happy</td>\n    </tr>\n    <tr>\n      <th>3</th>\n      <td>4</td>\n      <td>Iceland</td>\n      <td>7.495</td>\n      <td>1.343</td>\n      <td>1.644</td>\n      <td>0.914</td>\n      <td>0.677</td>\n      <td>0.353</td>\n      <td>0.138</td>\n      <td>happy</td>\n    </tr>\n    <tr>\n      <th>4</th>\n      <td>5</td>\n      <td>Switzerland</td>\n      <td>7.487</td>\n      <td>1.420</td>\n      <td>1.549</td>\n      <td>0.927</td>\n      <td>0.660</td>\n      <td>0.256</td>\n      <td>0.357</td>\n      <td>happy</td>\n    </tr>\n    <tr>\n      <th>...</th>\n      <td>...</td>\n      <td>...</td>\n      <td>...</td>\n      <td>...</td>\n      <td>...</td>\n      <td>...</td>\n      <td>...</td>\n      <td>...</td>\n      <td>...</td>\n      <td>...</td>\n    </tr>\n    <tr>\n      <th>150</th>\n      <td>152</td>\n      <td>Yemen</td>\n      <td>3.355</td>\n      <td>0.442</td>\n      <td>1.073</td>\n      <td>0.343</td>\n      <td>0.244</td>\n      <td>0.083</td>\n      <td>0.064</td>\n      <td>not_happy</td>\n    </tr>\n    <tr>\n      <th>151</th>\n      <td>153</td>\n      <td>Tanzania</td>\n      <td>3.303</td>\n      <td>0.455</td>\n      <td>0.991</td>\n      <td>0.381</td>\n      <td>0.481</td>\n      <td>0.270</td>\n      <td>0.097</td>\n      <td>not_happy</td>\n    </tr>\n    <tr>\n      <th>152</th>\n      <td>154</td>\n      <td>South Sudan</td>\n      <td>3.254</td>\n      <td>0.337</td>\n      <td>0.608</td>\n      <td>0.177</td>\n      <td>0.112</td>\n      <td>0.224</td>\n      <td>0.106</td>\n      <td>not_happy</td>\n    </tr>\n    <tr>\n      <th>153</th>\n      <td>155</td>\n      <td>Central African Republic</td>\n      <td>3.083</td>\n      <td>0.024</td>\n      <td>0.000</td>\n      <td>0.010</td>\n      <td>0.305</td>\n      <td>0.218</td>\n      <td>0.038</td>\n      <td>not_happy</td>\n    </tr>\n    <tr>\n      <th>154</th>\n      <td>156</td>\n      <td>Burundi</td>\n      <td>2.905</td>\n      <td>0.091</td>\n      <td>0.627</td>\n      <td>0.145</td>\n      <td>0.065</td>\n      <td>0.149</td>\n      <td>0.076</td>\n      <td>not_happy</td>\n    </tr>\n  </tbody>\n</table>\n<p>155 rows × 10 columns</p>\n</div>"
     },
     "metadata": {},
     "execution_count": 11
    }
   ],
   "source": [
    "# above 5.4 = happy(1), below 5.4 = not happy(0)\n",
    "happy_nothappy = [] \n",
    "for value in cleaner_2018[\"happiness_score\"]: \n",
    "    if value >= 5.4: \n",
    "        happy_nothappy.append(\"happy\") \n",
    "    else: \n",
    "        happy_nothappy.append(\"not_happy\") \n",
    "       \n",
    "cleaner_2018[\"happy_nothappy\"] = happy_nothappy\n",
    "cleaner_2018"
   ]
  },
  {
   "cell_type": "code",
   "execution_count": 12,
   "metadata": {},
   "outputs": [
    {
     "output_type": "stream",
     "name": "stdout",
     "text": [
      "(155, 6) (155, 1)\n"
     ]
    },
    {
     "output_type": "execute_result",
     "data": {
      "text/plain": [
       "     gdp_per_capita  social_support  healthy_life_expectancy  freedom_choice  \\\n",
       "0             1.305           1.592                    0.874           0.681   \n",
       "1             1.456           1.582                    0.861           0.686   \n",
       "2             1.351           1.590                    0.868           0.683   \n",
       "3             1.343           1.644                    0.914           0.677   \n",
       "4             1.420           1.549                    0.927           0.660   \n",
       "..              ...             ...                      ...             ...   \n",
       "150           0.442           1.073                    0.343           0.244   \n",
       "151           0.455           0.991                    0.381           0.481   \n",
       "152           0.337           0.608                    0.177           0.112   \n",
       "153           0.024           0.000                    0.010           0.305   \n",
       "154           0.091           0.627                    0.145           0.065   \n",
       "\n",
       "     generosity  perceptions_of_corruption  \n",
       "0         0.202                      0.393  \n",
       "1         0.286                      0.340  \n",
       "2         0.284                      0.408  \n",
       "3         0.353                      0.138  \n",
       "4         0.256                      0.357  \n",
       "..          ...                        ...  \n",
       "150       0.083                      0.064  \n",
       "151       0.270                      0.097  \n",
       "152       0.224                      0.106  \n",
       "153       0.218                      0.038  \n",
       "154       0.149                      0.076  \n",
       "\n",
       "[155 rows x 6 columns]"
      ],
      "text/html": "<div>\n<style scoped>\n    .dataframe tbody tr th:only-of-type {\n        vertical-align: middle;\n    }\n\n    .dataframe tbody tr th {\n        vertical-align: top;\n    }\n\n    .dataframe thead th {\n        text-align: right;\n    }\n</style>\n<table border=\"1\" class=\"dataframe\">\n  <thead>\n    <tr style=\"text-align: right;\">\n      <th></th>\n      <th>gdp_per_capita</th>\n      <th>social_support</th>\n      <th>healthy_life_expectancy</th>\n      <th>freedom_choice</th>\n      <th>generosity</th>\n      <th>perceptions_of_corruption</th>\n    </tr>\n  </thead>\n  <tbody>\n    <tr>\n      <th>0</th>\n      <td>1.305</td>\n      <td>1.592</td>\n      <td>0.874</td>\n      <td>0.681</td>\n      <td>0.202</td>\n      <td>0.393</td>\n    </tr>\n    <tr>\n      <th>1</th>\n      <td>1.456</td>\n      <td>1.582</td>\n      <td>0.861</td>\n      <td>0.686</td>\n      <td>0.286</td>\n      <td>0.340</td>\n    </tr>\n    <tr>\n      <th>2</th>\n      <td>1.351</td>\n      <td>1.590</td>\n      <td>0.868</td>\n      <td>0.683</td>\n      <td>0.284</td>\n      <td>0.408</td>\n    </tr>\n    <tr>\n      <th>3</th>\n      <td>1.343</td>\n      <td>1.644</td>\n      <td>0.914</td>\n      <td>0.677</td>\n      <td>0.353</td>\n      <td>0.138</td>\n    </tr>\n    <tr>\n      <th>4</th>\n      <td>1.420</td>\n      <td>1.549</td>\n      <td>0.927</td>\n      <td>0.660</td>\n      <td>0.256</td>\n      <td>0.357</td>\n    </tr>\n    <tr>\n      <th>...</th>\n      <td>...</td>\n      <td>...</td>\n      <td>...</td>\n      <td>...</td>\n      <td>...</td>\n      <td>...</td>\n    </tr>\n    <tr>\n      <th>150</th>\n      <td>0.442</td>\n      <td>1.073</td>\n      <td>0.343</td>\n      <td>0.244</td>\n      <td>0.083</td>\n      <td>0.064</td>\n    </tr>\n    <tr>\n      <th>151</th>\n      <td>0.455</td>\n      <td>0.991</td>\n      <td>0.381</td>\n      <td>0.481</td>\n      <td>0.270</td>\n      <td>0.097</td>\n    </tr>\n    <tr>\n      <th>152</th>\n      <td>0.337</td>\n      <td>0.608</td>\n      <td>0.177</td>\n      <td>0.112</td>\n      <td>0.224</td>\n      <td>0.106</td>\n    </tr>\n    <tr>\n      <th>153</th>\n      <td>0.024</td>\n      <td>0.000</td>\n      <td>0.010</td>\n      <td>0.305</td>\n      <td>0.218</td>\n      <td>0.038</td>\n    </tr>\n    <tr>\n      <th>154</th>\n      <td>0.091</td>\n      <td>0.627</td>\n      <td>0.145</td>\n      <td>0.065</td>\n      <td>0.149</td>\n      <td>0.076</td>\n    </tr>\n  </tbody>\n</table>\n<p>155 rows × 6 columns</p>\n</div>"
     },
     "metadata": {},
     "execution_count": 12
    }
   ],
   "source": [
    "# Assign the data to X and y\n",
    "\n",
    "X = cleaner_2018[[\"gdp_per_capita\", \"social_support\",\"healthy_life_expectancy\",\"freedom_choice\",\"generosity\",\"perceptions_of_corruption\"]]\n",
    "y = cleaner_2018[\"happiness_score\"].values.reshape(-1, 1)\n",
    "print(X.shape, y.shape)\n",
    "X"
   ]
  },
  {
   "cell_type": "code",
   "execution_count": 13,
   "metadata": {},
   "outputs": [],
   "source": [
    "X_train, X_test, y_train, y_test = train_test_split(X, y, random_state=42)"
   ]
  },
  {
   "cell_type": "code",
   "execution_count": 14,
   "metadata": {},
   "outputs": [],
   "source": [
    "model = LinearRegression()"
   ]
  },
  {
   "cell_type": "code",
   "execution_count": 15,
   "metadata": {},
   "outputs": [
    {
     "output_type": "stream",
     "name": "stdout",
     "text": [
      "Training Score: 0.7900201245992015\nTesting Score: 0.7844397069785669\n"
     ]
    }
   ],
   "source": [
    "model.fit(X_train, y_train)\n",
    "training_score = model.score(X_train, y_train)\n",
    "testing_score = model.score(X_test, y_test)\n",
    "\n",
    "### END SOLUTION \n",
    "\n",
    "print(f\"Training Score: {training_score}\")\n",
    "print(f\"Testing Score: {testing_score}\")"
   ]
  },
  {
   "cell_type": "code",
   "execution_count": 16,
   "metadata": {},
   "outputs": [
    {
     "output_type": "execute_result",
     "data": {
      "text/plain": [
       "Text(0.5, 1.0, 'Residual Plot')"
      ]
     },
     "metadata": {},
     "execution_count": 16
    },
    {
     "output_type": "display_data",
     "data": {
      "text/plain": "<Figure size 432x288 with 1 Axes>",
      "image/svg+xml": "<?xml version=\"1.0\" encoding=\"utf-8\" standalone=\"no\"?>\r\n<!DOCTYPE svg PUBLIC \"-//W3C//DTD SVG 1.1//EN\"\r\n  \"http://www.w3.org/Graphics/SVG/1.1/DTD/svg11.dtd\">\r\n<!-- Created with matplotlib (https://matplotlib.org/) -->\r\n<svg height=\"263.63625pt\" version=\"1.1\" viewBox=\"0 0 380.482812 263.63625\" width=\"380.482812pt\" xmlns=\"http://www.w3.org/2000/svg\" xmlns:xlink=\"http://www.w3.org/1999/xlink\">\r\n <metadata>\r\n  <rdf:RDF xmlns:cc=\"http://creativecommons.org/ns#\" xmlns:dc=\"http://purl.org/dc/elements/1.1/\" xmlns:rdf=\"http://www.w3.org/1999/02/22-rdf-syntax-ns#\">\r\n   <cc:Work>\r\n    <dc:type rdf:resource=\"http://purl.org/dc/dcmitype/StillImage\"/>\r\n    <dc:date>2021-01-16T14:35:34.771835</dc:date>\r\n    <dc:format>image/svg+xml</dc:format>\r\n    <dc:creator>\r\n     <cc:Agent>\r\n      <dc:title>Matplotlib v3.3.1, https://matplotlib.org/</dc:title>\r\n     </cc:Agent>\r\n    </dc:creator>\r\n   </cc:Work>\r\n  </rdf:RDF>\r\n </metadata>\r\n <defs>\r\n  <style type=\"text/css\">*{stroke-linecap:butt;stroke-linejoin:round;}</style>\r\n </defs>\r\n <g id=\"figure_1\">\r\n  <g id=\"patch_1\">\r\n   <path d=\"M -0 263.63625 \r\nL 380.482812 263.63625 \r\nL 380.482812 0 \r\nL -0 0 \r\nz\r\n\" style=\"fill:none;\"/>\r\n  </g>\r\n  <g id=\"axes_1\">\r\n   <g id=\"patch_2\">\r\n    <path d=\"M 38.482813 239.758125 \r\nL 373.282813 239.758125 \r\nL 373.282813 22.318125 \r\nL 38.482813 22.318125 \r\nz\r\n\" style=\"fill:#ffffff;\"/>\r\n   </g>\r\n   <g id=\"PathCollection_1\">\r\n    <defs>\r\n     <path d=\"M 0 3 \r\nC 0.795609 3 1.55874 2.683901 2.12132 2.12132 \r\nC 2.683901 1.55874 3 0.795609 3 0 \r\nC 3 -0.795609 2.683901 -1.55874 2.12132 -2.12132 \r\nC 1.55874 -2.683901 0.795609 -3 0 -3 \r\nC -0.795609 -3 -1.55874 -2.683901 -2.12132 -2.12132 \r\nC -2.683901 -1.55874 -3 -0.795609 -3 0 \r\nC -3 0.795609 -2.683901 1.55874 -2.12132 2.12132 \r\nC -1.55874 2.683901 -0.795609 3 0 3 \r\nz\r\n\" id=\"maa2f85cad6\" style=\"stroke:#0000ff;\"/>\r\n    </defs>\r\n    <g clip-path=\"url(#pc9fc2cdb13)\">\r\n     <use style=\"fill:#0000ff;stroke:#0000ff;\" x=\"226.849273\" xlink:href=\"#maa2f85cad6\" y=\"154.988048\"/>\r\n     <use style=\"fill:#0000ff;stroke:#0000ff;\" x=\"265.459443\" xlink:href=\"#maa2f85cad6\" y=\"139.529515\"/>\r\n     <use style=\"fill:#0000ff;stroke:#0000ff;\" x=\"270.845377\" xlink:href=\"#maa2f85cad6\" y=\"157.563751\"/>\r\n     <use style=\"fill:#0000ff;stroke:#0000ff;\" x=\"161.313936\" xlink:href=\"#maa2f85cad6\" y=\"160.748748\"/>\r\n     <use style=\"fill:#0000ff;stroke:#0000ff;\" x=\"243.883562\" xlink:href=\"#maa2f85cad6\" y=\"209.359085\"/>\r\n     <use style=\"fill:#0000ff;stroke:#0000ff;\" x=\"242.636962\" xlink:href=\"#maa2f85cad6\" y=\"169.012518\"/>\r\n     <use style=\"fill:#0000ff;stroke:#0000ff;\" x=\"224.504679\" xlink:href=\"#maa2f85cad6\" y=\"144.300789\"/>\r\n     <use style=\"fill:#0000ff;stroke:#0000ff;\" x=\"305.54264\" xlink:href=\"#maa2f85cad6\" y=\"181.475474\"/>\r\n     <use style=\"fill:#0000ff;stroke:#0000ff;\" x=\"137.399926\" xlink:href=\"#maa2f85cad6\" y=\"149.089572\"/>\r\n     <use style=\"fill:#0000ff;stroke:#0000ff;\" x=\"245.92951\" xlink:href=\"#maa2f85cad6\" y=\"148.852315\"/>\r\n     <use style=\"fill:#0000ff;stroke:#0000ff;\" x=\"156.326553\" xlink:href=\"#maa2f85cad6\" y=\"171.233235\"/>\r\n     <use style=\"fill:#0000ff;stroke:#0000ff;\" x=\"267.123112\" xlink:href=\"#maa2f85cad6\" y=\"175.295017\"/>\r\n     <use style=\"fill:#0000ff;stroke:#0000ff;\" x=\"222.555038\" xlink:href=\"#maa2f85cad6\" y=\"156.543888\"/>\r\n     <use style=\"fill:#0000ff;stroke:#0000ff;\" x=\"226.402859\" xlink:href=\"#maa2f85cad6\" y=\"32.201761\"/>\r\n     <use style=\"fill:#0000ff;stroke:#0000ff;\" x=\"281.894039\" xlink:href=\"#maa2f85cad6\" y=\"138.677753\"/>\r\n     <use style=\"fill:#0000ff;stroke:#0000ff;\" x=\"322.038059\" xlink:href=\"#maa2f85cad6\" y=\"185.872182\"/>\r\n     <use style=\"fill:#0000ff;stroke:#0000ff;\" x=\"324.91744\" xlink:href=\"#maa2f85cad6\" y=\"104.473325\"/>\r\n     <use style=\"fill:#0000ff;stroke:#0000ff;\" x=\"121.409443\" xlink:href=\"#maa2f85cad6\" y=\"192.865515\"/>\r\n     <use style=\"fill:#0000ff;stroke:#0000ff;\" x=\"96.418473\" xlink:href=\"#maa2f85cad6\" y=\"187.447628\"/>\r\n     <use style=\"fill:#0000ff;stroke:#0000ff;\" x=\"236.270388\" xlink:href=\"#maa2f85cad6\" y=\"159.084519\"/>\r\n     <use style=\"fill:#0000ff;stroke:#0000ff;\" x=\"321.419645\" xlink:href=\"#maa2f85cad6\" y=\"147.24447\"/>\r\n     <use style=\"fill:#0000ff;stroke:#0000ff;\" x=\"187.622003\" xlink:href=\"#maa2f85cad6\" y=\"131.339911\"/>\r\n     <use style=\"fill:#0000ff;stroke:#0000ff;\" x=\"278.26285\" xlink:href=\"#maa2f85cad6\" y=\"216.934027\"/>\r\n     <use style=\"fill:#0000ff;stroke:#0000ff;\" x=\"194.062396\" xlink:href=\"#maa2f85cad6\" y=\"132.178678\"/>\r\n     <use style=\"fill:#0000ff;stroke:#0000ff;\" x=\"111.2855\" xlink:href=\"#maa2f85cad6\" y=\"166.608824\"/>\r\n     <use style=\"fill:#0000ff;stroke:#0000ff;\" x=\"205.331476\" xlink:href=\"#maa2f85cad6\" y=\"136.56405\"/>\r\n     <use style=\"fill:#0000ff;stroke:#0000ff;\" x=\"316.997636\" xlink:href=\"#maa2f85cad6\" y=\"201.670418\"/>\r\n     <use style=\"fill:#0000ff;stroke:#0000ff;\" x=\"205.257563\" xlink:href=\"#maa2f85cad6\" y=\"124.919917\"/>\r\n     <use style=\"fill:#0000ff;stroke:#0000ff;\" x=\"225.401306\" xlink:href=\"#maa2f85cad6\" y=\"174.690894\"/>\r\n     <use style=\"fill:#0000ff;stroke:#0000ff;\" x=\"274.745416\" xlink:href=\"#maa2f85cad6\" y=\"144.807448\"/>\r\n     <use style=\"fill:#0000ff;stroke:#0000ff;\" x=\"163.066042\" xlink:href=\"#maa2f85cad6\" y=\"200.911921\"/>\r\n     <use style=\"fill:#0000ff;stroke:#0000ff;\" x=\"238.575063\" xlink:href=\"#maa2f85cad6\" y=\"208.352831\"/>\r\n     <use style=\"fill:#0000ff;stroke:#0000ff;\" x=\"272.615718\" xlink:href=\"#maa2f85cad6\" y=\"150.782418\"/>\r\n     <use style=\"fill:#0000ff;stroke:#0000ff;\" x=\"215.027941\" xlink:href=\"#maa2f85cad6\" y=\"121.71852\"/>\r\n     <use style=\"fill:#0000ff;stroke:#0000ff;\" x=\"272.887832\" xlink:href=\"#maa2f85cad6\" y=\"171.401499\"/>\r\n     <use style=\"fill:#0000ff;stroke:#0000ff;\" x=\"255.442449\" xlink:href=\"#maa2f85cad6\" y=\"194.990115\"/>\r\n     <use style=\"fill:#0000ff;stroke:#0000ff;\" x=\"216.965492\" xlink:href=\"#maa2f85cad6\" y=\"113.718133\"/>\r\n     <use style=\"fill:#0000ff;stroke:#0000ff;\" x=\"235.294768\" xlink:href=\"#maa2f85cad6\" y=\"195.761602\"/>\r\n     <use style=\"fill:#0000ff;stroke:#0000ff;\" x=\"182.363956\" xlink:href=\"#maa2f85cad6\" y=\"64.25476\"/>\r\n     <use style=\"fill:#0000ff;stroke:#0000ff;\" x=\"246.158081\" xlink:href=\"#maa2f85cad6\" y=\"100.638198\"/>\r\n     <use style=\"fill:#0000ff;stroke:#0000ff;\" x=\"155.212354\" xlink:href=\"#maa2f85cad6\" y=\"99.631239\"/>\r\n     <use style=\"fill:#0000ff;stroke:#0000ff;\" x=\"204.995222\" xlink:href=\"#maa2f85cad6\" y=\"92.285787\"/>\r\n     <use style=\"fill:#0000ff;stroke:#0000ff;\" x=\"221.306602\" xlink:href=\"#maa2f85cad6\" y=\"199.54259\"/>\r\n     <use style=\"fill:#0000ff;stroke:#0000ff;\" x=\"125.829684\" xlink:href=\"#maa2f85cad6\" y=\"217.0106\"/>\r\n     <use style=\"fill:#0000ff;stroke:#0000ff;\" x=\"279.455245\" xlink:href=\"#maa2f85cad6\" y=\"116.57475\"/>\r\n     <use style=\"fill:#0000ff;stroke:#0000ff;\" x=\"167.27479\" xlink:href=\"#maa2f85cad6\" y=\"229.874489\"/>\r\n     <use style=\"fill:#0000ff;stroke:#0000ff;\" x=\"241.399584\" xlink:href=\"#maa2f85cad6\" y=\"200.949496\"/>\r\n     <use style=\"fill:#0000ff;stroke:#0000ff;\" x=\"128.537529\" xlink:href=\"#maa2f85cad6\" y=\"138.199913\"/>\r\n     <use style=\"fill:#0000ff;stroke:#0000ff;\" x=\"168.77202\" xlink:href=\"#maa2f85cad6\" y=\"151.596384\"/>\r\n     <use style=\"fill:#0000ff;stroke:#0000ff;\" x=\"252.171361\" xlink:href=\"#maa2f85cad6\" y=\"144.60406\"/>\r\n     <use style=\"fill:#0000ff;stroke:#0000ff;\" x=\"158.117979\" xlink:href=\"#maa2f85cad6\" y=\"185.979085\"/>\r\n     <use style=\"fill:#0000ff;stroke:#0000ff;\" x=\"239.481426\" xlink:href=\"#maa2f85cad6\" y=\"119.37763\"/>\r\n     <use style=\"fill:#0000ff;stroke:#0000ff;\" x=\"266.851939\" xlink:href=\"#maa2f85cad6\" y=\"141.716409\"/>\r\n     <use style=\"fill:#0000ff;stroke:#0000ff;\" x=\"311.387409\" xlink:href=\"#maa2f85cad6\" y=\"195.220692\"/>\r\n     <use style=\"fill:#0000ff;stroke:#0000ff;\" x=\"187.072897\" xlink:href=\"#maa2f85cad6\" y=\"128.164306\"/>\r\n     <use style=\"fill:#0000ff;stroke:#0000ff;\" x=\"254.264143\" xlink:href=\"#maa2f85cad6\" y=\"59.625992\"/>\r\n     <use style=\"fill:#0000ff;stroke:#0000ff;\" x=\"292.616302\" xlink:href=\"#maa2f85cad6\" y=\"115.400239\"/>\r\n     <use style=\"fill:#0000ff;stroke:#0000ff;\" x=\"250.592999\" xlink:href=\"#maa2f85cad6\" y=\"185.943471\"/>\r\n     <use style=\"fill:#0000ff;stroke:#0000ff;\" x=\"231.57764\" xlink:href=\"#maa2f85cad6\" y=\"144.193387\"/>\r\n     <use style=\"fill:#0000ff;stroke:#0000ff;\" x=\"215.61105\" xlink:href=\"#maa2f85cad6\" y=\"165.434586\"/>\r\n     <use style=\"fill:#0000ff;stroke:#0000ff;\" x=\"284.045391\" xlink:href=\"#maa2f85cad6\" y=\"150.137167\"/>\r\n     <use style=\"fill:#0000ff;stroke:#0000ff;\" x=\"249.313478\" xlink:href=\"#maa2f85cad6\" y=\"167.869422\"/>\r\n     <use style=\"fill:#0000ff;stroke:#0000ff;\" x=\"319.853154\" xlink:href=\"#maa2f85cad6\" y=\"177.316595\"/>\r\n     <use style=\"fill:#0000ff;stroke:#0000ff;\" x=\"276.899719\" xlink:href=\"#maa2f85cad6\" y=\"143.032172\"/>\r\n     <use style=\"fill:#0000ff;stroke:#0000ff;\" x=\"212.961212\" xlink:href=\"#maa2f85cad6\" y=\"178.49853\"/>\r\n     <use style=\"fill:#0000ff;stroke:#0000ff;\" x=\"177.443866\" xlink:href=\"#maa2f85cad6\" y=\"155.684598\"/>\r\n     <use style=\"fill:#0000ff;stroke:#0000ff;\" x=\"209.000313\" xlink:href=\"#maa2f85cad6\" y=\"157.566078\"/>\r\n     <use style=\"fill:#0000ff;stroke:#0000ff;\" x=\"191.09985\" xlink:href=\"#maa2f85cad6\" y=\"187.076163\"/>\r\n     <use style=\"fill:#0000ff;stroke:#0000ff;\" x=\"172.191679\" xlink:href=\"#maa2f85cad6\" y=\"110.621895\"/>\r\n     <use style=\"fill:#0000ff;stroke:#0000ff;\" x=\"146.33791\" xlink:href=\"#maa2f85cad6\" y=\"140.043775\"/>\r\n     <use style=\"fill:#0000ff;stroke:#0000ff;\" x=\"184.337374\" xlink:href=\"#maa2f85cad6\" y=\"188.251828\"/>\r\n     <use style=\"fill:#0000ff;stroke:#0000ff;\" x=\"316.010142\" xlink:href=\"#maa2f85cad6\" y=\"181.139756\"/>\r\n     <use style=\"fill:#0000ff;stroke:#0000ff;\" x=\"319.331142\" xlink:href=\"#maa2f85cad6\" y=\"154.262381\"/>\r\n     <use style=\"fill:#0000ff;stroke:#0000ff;\" x=\"255.42128\" xlink:href=\"#maa2f85cad6\" y=\"146.318544\"/>\r\n     <use style=\"fill:#0000ff;stroke:#0000ff;\" x=\"136.43098\" xlink:href=\"#maa2f85cad6\" y=\"176.960744\"/>\r\n     <use style=\"fill:#0000ff;stroke:#0000ff;\" x=\"323.954391\" xlink:href=\"#maa2f85cad6\" y=\"184.171274\"/>\r\n     <use style=\"fill:#0000ff;stroke:#0000ff;\" x=\"295.601216\" xlink:href=\"#maa2f85cad6\" y=\"175.874695\"/>\r\n     <use style=\"fill:#0000ff;stroke:#0000ff;\" x=\"221.559793\" xlink:href=\"#maa2f85cad6\" y=\"213.636443\"/>\r\n     <use style=\"fill:#0000ff;stroke:#0000ff;\" x=\"240.863299\" xlink:href=\"#maa2f85cad6\" y=\"144.356521\"/>\r\n     <use style=\"fill:#0000ff;stroke:#0000ff;\" x=\"153.346916\" xlink:href=\"#maa2f85cad6\" y=\"155.288644\"/>\r\n     <use style=\"fill:#0000ff;stroke:#0000ff;\" x=\"314.578936\" xlink:href=\"#maa2f85cad6\" y=\"183.772397\"/>\r\n     <use style=\"fill:#0000ff;stroke:#0000ff;\" x=\"231.426575\" xlink:href=\"#maa2f85cad6\" y=\"75.281629\"/>\r\n     <use style=\"fill:#0000ff;stroke:#0000ff;\" x=\"215.704777\" xlink:href=\"#maa2f85cad6\" y=\"127.677082\"/>\r\n     <use style=\"fill:#0000ff;stroke:#0000ff;\" x=\"322.237288\" xlink:href=\"#maa2f85cad6\" y=\"190.276376\"/>\r\n     <use style=\"fill:#0000ff;stroke:#0000ff;\" x=\"194.460029\" xlink:href=\"#maa2f85cad6\" y=\"126.188151\"/>\r\n     <use style=\"fill:#0000ff;stroke:#0000ff;\" x=\"238.081943\" xlink:href=\"#maa2f85cad6\" y=\"159.893519\"/>\r\n     <use style=\"fill:#0000ff;stroke:#0000ff;\" x=\"197.507888\" xlink:href=\"#maa2f85cad6\" y=\"125.138612\"/>\r\n     <use style=\"fill:#0000ff;stroke:#0000ff;\" x=\"253.658966\" xlink:href=\"#maa2f85cad6\" y=\"157.114399\"/>\r\n     <use style=\"fill:#0000ff;stroke:#0000ff;\" x=\"180.094518\" xlink:href=\"#maa2f85cad6\" y=\"157.487785\"/>\r\n     <use style=\"fill:#0000ff;stroke:#0000ff;\" x=\"247.533545\" xlink:href=\"#maa2f85cad6\" y=\"168.046383\"/>\r\n     <use style=\"fill:#0000ff;stroke:#0000ff;\" x=\"102.558658\" xlink:href=\"#maa2f85cad6\" y=\"154.469017\"/>\r\n     <use style=\"fill:#0000ff;stroke:#0000ff;\" x=\"261.152455\" xlink:href=\"#maa2f85cad6\" y=\"141.50952\"/>\r\n     <use style=\"fill:#0000ff;stroke:#0000ff;\" x=\"252.649427\" xlink:href=\"#maa2f85cad6\" y=\"162.526425\"/>\r\n     <use style=\"fill:#0000ff;stroke:#0000ff;\" x=\"228.900174\" xlink:href=\"#maa2f85cad6\" y=\"136.419838\"/>\r\n     <use style=\"fill:#0000ff;stroke:#0000ff;\" x=\"286.100403\" xlink:href=\"#maa2f85cad6\" y=\"159.936265\"/>\r\n     <use style=\"fill:#0000ff;stroke:#0000ff;\" x=\"247.377299\" xlink:href=\"#maa2f85cad6\" y=\"159.022252\"/>\r\n     <use style=\"fill:#0000ff;stroke:#0000ff;\" x=\"190.309742\" xlink:href=\"#maa2f85cad6\" y=\"62.101106\"/>\r\n     <use style=\"fill:#0000ff;stroke:#0000ff;\" x=\"122.402916\" xlink:href=\"#maa2f85cad6\" y=\"202.613217\"/>\r\n     <use style=\"fill:#0000ff;stroke:#0000ff;\" x=\"260.714834\" xlink:href=\"#maa2f85cad6\" y=\"168.143997\"/>\r\n     <use style=\"fill:#0000ff;stroke:#0000ff;\" x=\"136.504967\" xlink:href=\"#maa2f85cad6\" y=\"137.384922\"/>\r\n     <use style=\"fill:#0000ff;stroke:#0000ff;\" x=\"325.941918\" xlink:href=\"#maa2f85cad6\" y=\"188.593305\"/>\r\n     <use style=\"fill:#0000ff;stroke:#0000ff;\" x=\"292.080465\" xlink:href=\"#maa2f85cad6\" y=\"113.77773\"/>\r\n     <use style=\"fill:#0000ff;stroke:#0000ff;\" x=\"142.361727\" xlink:href=\"#maa2f85cad6\" y=\"175.396075\"/>\r\n     <use style=\"fill:#0000ff;stroke:#0000ff;\" x=\"230.825088\" xlink:href=\"#maa2f85cad6\" y=\"104.35888\"/>\r\n     <use style=\"fill:#0000ff;stroke:#0000ff;\" x=\"209.823134\" xlink:href=\"#maa2f85cad6\" y=\"139.619128\"/>\r\n     <use style=\"fill:#0000ff;stroke:#0000ff;\" x=\"165.84494\" xlink:href=\"#maa2f85cad6\" y=\"161.64343\"/>\r\n     <use style=\"fill:#0000ff;stroke:#0000ff;\" x=\"229.420838\" xlink:href=\"#maa2f85cad6\" y=\"137.446315\"/>\r\n     <use style=\"fill:#0000ff;stroke:#0000ff;\" x=\"294.300872\" xlink:href=\"#maa2f85cad6\" y=\"78.096658\"/>\r\n     <use style=\"fill:#0000ff;stroke:#0000ff;\" x=\"155.869577\" xlink:href=\"#maa2f85cad6\" y=\"171.291535\"/>\r\n     <use style=\"fill:#0000ff;stroke:#0000ff;\" x=\"81.287632\" xlink:href=\"#maa2f85cad6\" y=\"155.602575\"/>\r\n     <use style=\"fill:#0000ff;stroke:#0000ff;\" x=\"308.250992\" xlink:href=\"#maa2f85cad6\" y=\"143.38092\"/>\r\n     <use style=\"fill:#0000ff;stroke:#0000ff;\" x=\"242.722767\" xlink:href=\"#maa2f85cad6\" y=\"142.176657\"/>\r\n     <use style=\"fill:#0000ff;stroke:#0000ff;\" x=\"179.536528\" xlink:href=\"#maa2f85cad6\" y=\"159.915178\"/>\r\n     <use style=\"fill:#0000ff;stroke:#0000ff;\" x=\"301.082865\" xlink:href=\"#maa2f85cad6\" y=\"174.836504\"/>\r\n     <use style=\"fill:#0000ff;stroke:#0000ff;\" x=\"241.920699\" xlink:href=\"#maa2f85cad6\" y=\"118.70053\"/>\r\n     <use style=\"fill:#0000ff;stroke:#0000ff;\" x=\"191.461727\" xlink:href=\"#maa2f85cad6\" y=\"151.800596\"/>\r\n    </g>\r\n   </g>\r\n   <g id=\"PathCollection_2\">\r\n    <defs>\r\n     <path d=\"M 0 3 \r\nC 0.795609 3 1.55874 2.683901 2.12132 2.12132 \r\nC 2.683901 1.55874 3 0.795609 3 0 \r\nC 3 -0.795609 2.683901 -1.55874 2.12132 -2.12132 \r\nC 1.55874 -2.683901 0.795609 -3 0 -3 \r\nC -0.795609 -3 -1.55874 -2.683901 -2.12132 -2.12132 \r\nC -2.683901 -1.55874 -3 -0.795609 -3 0 \r\nC -3 0.795609 -2.683901 1.55874 -2.12132 2.12132 \r\nC -1.55874 2.683901 -0.795609 3 0 3 \r\nz\r\n\" id=\"m2d8c7acd87\" style=\"stroke:#ffa500;\"/>\r\n    </defs>\r\n    <g clip-path=\"url(#pc9fc2cdb13)\">\r\n     <use style=\"fill:#ffa500;stroke:#ffa500;\" x=\"257.473454\" xlink:href=\"#m2d8c7acd87\" y=\"112.539747\"/>\r\n     <use style=\"fill:#ffa500;stroke:#ffa500;\" x=\"165.273879\" xlink:href=\"#m2d8c7acd87\" y=\"110.82021\"/>\r\n     <use style=\"fill:#ffa500;stroke:#ffa500;\" x=\"265.39371\" xlink:href=\"#m2d8c7acd87\" y=\"176.162967\"/>\r\n     <use style=\"fill:#ffa500;stroke:#ffa500;\" x=\"278.674782\" xlink:href=\"#m2d8c7acd87\" y=\"161.139114\"/>\r\n     <use style=\"fill:#ffa500;stroke:#ffa500;\" x=\"217.670949\" xlink:href=\"#m2d8c7acd87\" y=\"99.932699\"/>\r\n     <use style=\"fill:#ffa500;stroke:#ffa500;\" x=\"227.374464\" xlink:href=\"#m2d8c7acd87\" y=\"178.51595\"/>\r\n     <use style=\"fill:#ffa500;stroke:#ffa500;\" x=\"247.839986\" xlink:href=\"#m2d8c7acd87\" y=\"110.260869\"/>\r\n     <use style=\"fill:#ffa500;stroke:#ffa500;\" x=\"137.692781\" xlink:href=\"#m2d8c7acd87\" y=\"129.717838\"/>\r\n     <use style=\"fill:#ffa500;stroke:#ffa500;\" x=\"53.700994\" xlink:href=\"#m2d8c7acd87\" y=\"200.08253\"/>\r\n     <use style=\"fill:#ffa500;stroke:#ffa500;\" x=\"241.130245\" xlink:href=\"#m2d8c7acd87\" y=\"149.704363\"/>\r\n     <use style=\"fill:#ffa500;stroke:#ffa500;\" x=\"276.697988\" xlink:href=\"#m2d8c7acd87\" y=\"144.155291\"/>\r\n     <use style=\"fill:#ffa500;stroke:#ffa500;\" x=\"142.954773\" xlink:href=\"#m2d8c7acd87\" y=\"155.536019\"/>\r\n     <use style=\"fill:#ffa500;stroke:#ffa500;\" x=\"244.300984\" xlink:href=\"#m2d8c7acd87\" y=\"131.801227\"/>\r\n     <use style=\"fill:#ffa500;stroke:#ffa500;\" x=\"276.160646\" xlink:href=\"#m2d8c7acd87\" y=\"97.998495\"/>\r\n     <use style=\"fill:#ffa500;stroke:#ffa500;\" x=\"298.608741\" xlink:href=\"#m2d8c7acd87\" y=\"175.145248\"/>\r\n     <use style=\"fill:#ffa500;stroke:#ffa500;\" x=\"279.829497\" xlink:href=\"#m2d8c7acd87\" y=\"182.428574\"/>\r\n     <use style=\"fill:#ffa500;stroke:#ffa500;\" x=\"304.231698\" xlink:href=\"#m2d8c7acd87\" y=\"130.837598\"/>\r\n     <use style=\"fill:#ffa500;stroke:#ffa500;\" x=\"230.660864\" xlink:href=\"#m2d8c7acd87\" y=\"132.309706\"/>\r\n     <use style=\"fill:#ffa500;stroke:#ffa500;\" x=\"219.205936\" xlink:href=\"#m2d8c7acd87\" y=\"98.678844\"/>\r\n     <use style=\"fill:#ffa500;stroke:#ffa500;\" x=\"122.457743\" xlink:href=\"#m2d8c7acd87\" y=\"181.951872\"/>\r\n     <use style=\"fill:#ffa500;stroke:#ffa500;\" x=\"303.154449\" xlink:href=\"#m2d8c7acd87\" y=\"162.10944\"/>\r\n     <use style=\"fill:#ffa500;stroke:#ffa500;\" x=\"276.602153\" xlink:href=\"#m2d8c7acd87\" y=\"210.833009\"/>\r\n     <use style=\"fill:#ffa500;stroke:#ffa500;\" x=\"319.543623\" xlink:href=\"#m2d8c7acd87\" y=\"174.132944\"/>\r\n     <use style=\"fill:#ffa500;stroke:#ffa500;\" x=\"275.119281\" xlink:href=\"#m2d8c7acd87\" y=\"169.535784\"/>\r\n     <use style=\"fill:#ffa500;stroke:#ffa500;\" x=\"238.830545\" xlink:href=\"#m2d8c7acd87\" y=\"149.53582\"/>\r\n     <use style=\"fill:#ffa500;stroke:#ffa500;\" x=\"188.047687\" xlink:href=\"#m2d8c7acd87\" y=\"118.087064\"/>\r\n     <use style=\"fill:#ffa500;stroke:#ffa500;\" x=\"241.694579\" xlink:href=\"#m2d8c7acd87\" y=\"116.032915\"/>\r\n     <use style=\"fill:#ffa500;stroke:#ffa500;\" x=\"263.796829\" xlink:href=\"#m2d8c7acd87\" y=\"152.731974\"/>\r\n     <use style=\"fill:#ffa500;stroke:#ffa500;\" x=\"183.83873\" xlink:href=\"#m2d8c7acd87\" y=\"191.837289\"/>\r\n     <use style=\"fill:#ffa500;stroke:#ffa500;\" x=\"246.212838\" xlink:href=\"#m2d8c7acd87\" y=\"121.921302\"/>\r\n     <use style=\"fill:#ffa500;stroke:#ffa500;\" x=\"175.025675\" xlink:href=\"#m2d8c7acd87\" y=\"143.583169\"/>\r\n     <use style=\"fill:#ffa500;stroke:#ffa500;\" x=\"147.084048\" xlink:href=\"#m2d8c7acd87\" y=\"220.125111\"/>\r\n     <use style=\"fill:#ffa500;stroke:#ffa500;\" x=\"196.082158\" xlink:href=\"#m2d8c7acd87\" y=\"123.672701\"/>\r\n     <use style=\"fill:#ffa500;stroke:#ffa500;\" x=\"191.496216\" xlink:href=\"#m2d8c7acd87\" y=\"189.407791\"/>\r\n     <use style=\"fill:#ffa500;stroke:#ffa500;\" x=\"187.776421\" xlink:href=\"#m2d8c7acd87\" y=\"145.822363\"/>\r\n     <use style=\"fill:#ffa500;stroke:#ffa500;\" x=\"196.74905\" xlink:href=\"#m2d8c7acd87\" y=\"206.779634\"/>\r\n     <use style=\"fill:#ffa500;stroke:#ffa500;\" x=\"247.49208\" xlink:href=\"#m2d8c7acd87\" y=\"167.276567\"/>\r\n     <use style=\"fill:#ffa500;stroke:#ffa500;\" x=\"254.060637\" xlink:href=\"#m2d8c7acd87\" y=\"192.722493\"/>\r\n     <use style=\"fill:#ffa500;stroke:#ffa500;\" x=\"170.268384\" xlink:href=\"#m2d8c7acd87\" y=\"136.951968\"/>\r\n    </g>\r\n   </g>\r\n   <g id=\"matplotlib.axis_1\">\r\n    <g id=\"xtick_1\">\r\n     <g id=\"line2d_1\">\r\n      <defs>\r\n       <path d=\"M 0 0 \r\nL 0 3.5 \r\n\" id=\"m14146e9cac\" style=\"stroke:#000000;stroke-width:0.8;\"/>\r\n      </defs>\r\n      <g>\r\n       <use style=\"stroke:#000000;stroke-width:0.8;\" x=\"88.584725\" xlink:href=\"#m14146e9cac\" y=\"239.758125\"/>\r\n      </g>\r\n     </g>\r\n     <g id=\"text_1\">\r\n      <!-- 3 -->\r\n      <g transform=\"translate(85.403475 254.356563)scale(0.1 -0.1)\">\r\n       <defs>\r\n        <path d=\"M 40.578125 39.3125 \r\nQ 47.65625 37.796875 51.625 33 \r\nQ 55.609375 28.21875 55.609375 21.1875 \r\nQ 55.609375 10.40625 48.1875 4.484375 \r\nQ 40.765625 -1.421875 27.09375 -1.421875 \r\nQ 22.515625 -1.421875 17.65625 -0.515625 \r\nQ 12.796875 0.390625 7.625 2.203125 \r\nL 7.625 11.71875 \r\nQ 11.71875 9.328125 16.59375 8.109375 \r\nQ 21.484375 6.890625 26.8125 6.890625 \r\nQ 36.078125 6.890625 40.9375 10.546875 \r\nQ 45.796875 14.203125 45.796875 21.1875 \r\nQ 45.796875 27.640625 41.28125 31.265625 \r\nQ 36.765625 34.90625 28.71875 34.90625 \r\nL 20.21875 34.90625 \r\nL 20.21875 43.015625 \r\nL 29.109375 43.015625 \r\nQ 36.375 43.015625 40.234375 45.921875 \r\nQ 44.09375 48.828125 44.09375 54.296875 \r\nQ 44.09375 59.90625 40.109375 62.90625 \r\nQ 36.140625 65.921875 28.71875 65.921875 \r\nQ 24.65625 65.921875 20.015625 65.03125 \r\nQ 15.375 64.15625 9.8125 62.3125 \r\nL 9.8125 71.09375 \r\nQ 15.4375 72.65625 20.34375 73.4375 \r\nQ 25.25 74.21875 29.59375 74.21875 \r\nQ 40.828125 74.21875 47.359375 69.109375 \r\nQ 53.90625 64.015625 53.90625 55.328125 \r\nQ 53.90625 49.265625 50.4375 45.09375 \r\nQ 46.96875 40.921875 40.578125 39.3125 \r\nz\r\n\" id=\"DejaVuSans-51\"/>\r\n       </defs>\r\n       <use xlink:href=\"#DejaVuSans-51\"/>\r\n      </g>\r\n     </g>\r\n    </g>\r\n    <g id=\"xtick_2\">\r\n     <g id=\"line2d_2\">\r\n      <g>\r\n       <use style=\"stroke:#000000;stroke-width:0.8;\" x=\"146.762598\" xlink:href=\"#m14146e9cac\" y=\"239.758125\"/>\r\n      </g>\r\n     </g>\r\n     <g id=\"text_2\">\r\n      <!-- 4 -->\r\n      <g transform=\"translate(143.581348 254.356563)scale(0.1 -0.1)\">\r\n       <defs>\r\n        <path d=\"M 37.796875 64.3125 \r\nL 12.890625 25.390625 \r\nL 37.796875 25.390625 \r\nz\r\nM 35.203125 72.90625 \r\nL 47.609375 72.90625 \r\nL 47.609375 25.390625 \r\nL 58.015625 25.390625 \r\nL 58.015625 17.1875 \r\nL 47.609375 17.1875 \r\nL 47.609375 0 \r\nL 37.796875 0 \r\nL 37.796875 17.1875 \r\nL 4.890625 17.1875 \r\nL 4.890625 26.703125 \r\nz\r\n\" id=\"DejaVuSans-52\"/>\r\n       </defs>\r\n       <use xlink:href=\"#DejaVuSans-52\"/>\r\n      </g>\r\n     </g>\r\n    </g>\r\n    <g id=\"xtick_3\">\r\n     <g id=\"line2d_3\">\r\n      <g>\r\n       <use style=\"stroke:#000000;stroke-width:0.8;\" x=\"204.94047\" xlink:href=\"#m14146e9cac\" y=\"239.758125\"/>\r\n      </g>\r\n     </g>\r\n     <g id=\"text_3\">\r\n      <!-- 5 -->\r\n      <g transform=\"translate(201.75922 254.356563)scale(0.1 -0.1)\">\r\n       <defs>\r\n        <path d=\"M 10.796875 72.90625 \r\nL 49.515625 72.90625 \r\nL 49.515625 64.59375 \r\nL 19.828125 64.59375 \r\nL 19.828125 46.734375 \r\nQ 21.96875 47.46875 24.109375 47.828125 \r\nQ 26.265625 48.1875 28.421875 48.1875 \r\nQ 40.625 48.1875 47.75 41.5 \r\nQ 54.890625 34.8125 54.890625 23.390625 \r\nQ 54.890625 11.625 47.5625 5.09375 \r\nQ 40.234375 -1.421875 26.90625 -1.421875 \r\nQ 22.3125 -1.421875 17.546875 -0.640625 \r\nQ 12.796875 0.140625 7.71875 1.703125 \r\nL 7.71875 11.625 \r\nQ 12.109375 9.234375 16.796875 8.0625 \r\nQ 21.484375 6.890625 26.703125 6.890625 \r\nQ 35.15625 6.890625 40.078125 11.328125 \r\nQ 45.015625 15.765625 45.015625 23.390625 \r\nQ 45.015625 31 40.078125 35.4375 \r\nQ 35.15625 39.890625 26.703125 39.890625 \r\nQ 22.75 39.890625 18.8125 39.015625 \r\nQ 14.890625 38.140625 10.796875 36.28125 \r\nz\r\n\" id=\"DejaVuSans-53\"/>\r\n       </defs>\r\n       <use xlink:href=\"#DejaVuSans-53\"/>\r\n      </g>\r\n     </g>\r\n    </g>\r\n    <g id=\"xtick_4\">\r\n     <g id=\"line2d_4\">\r\n      <g>\r\n       <use style=\"stroke:#000000;stroke-width:0.8;\" x=\"263.118343\" xlink:href=\"#m14146e9cac\" y=\"239.758125\"/>\r\n      </g>\r\n     </g>\r\n     <g id=\"text_4\">\r\n      <!-- 6 -->\r\n      <g transform=\"translate(259.937093 254.356563)scale(0.1 -0.1)\">\r\n       <defs>\r\n        <path d=\"M 33.015625 40.375 \r\nQ 26.375 40.375 22.484375 35.828125 \r\nQ 18.609375 31.296875 18.609375 23.390625 \r\nQ 18.609375 15.53125 22.484375 10.953125 \r\nQ 26.375 6.390625 33.015625 6.390625 \r\nQ 39.65625 6.390625 43.53125 10.953125 \r\nQ 47.40625 15.53125 47.40625 23.390625 \r\nQ 47.40625 31.296875 43.53125 35.828125 \r\nQ 39.65625 40.375 33.015625 40.375 \r\nz\r\nM 52.59375 71.296875 \r\nL 52.59375 62.3125 \r\nQ 48.875 64.0625 45.09375 64.984375 \r\nQ 41.3125 65.921875 37.59375 65.921875 \r\nQ 27.828125 65.921875 22.671875 59.328125 \r\nQ 17.53125 52.734375 16.796875 39.40625 \r\nQ 19.671875 43.65625 24.015625 45.921875 \r\nQ 28.375 48.1875 33.59375 48.1875 \r\nQ 44.578125 48.1875 50.953125 41.515625 \r\nQ 57.328125 34.859375 57.328125 23.390625 \r\nQ 57.328125 12.15625 50.6875 5.359375 \r\nQ 44.046875 -1.421875 33.015625 -1.421875 \r\nQ 20.359375 -1.421875 13.671875 8.265625 \r\nQ 6.984375 17.96875 6.984375 36.375 \r\nQ 6.984375 53.65625 15.1875 63.9375 \r\nQ 23.390625 74.21875 37.203125 74.21875 \r\nQ 40.921875 74.21875 44.703125 73.484375 \r\nQ 48.484375 72.75 52.59375 71.296875 \r\nz\r\n\" id=\"DejaVuSans-54\"/>\r\n       </defs>\r\n       <use xlink:href=\"#DejaVuSans-54\"/>\r\n      </g>\r\n     </g>\r\n    </g>\r\n    <g id=\"xtick_5\">\r\n     <g id=\"line2d_5\">\r\n      <g>\r\n       <use style=\"stroke:#000000;stroke-width:0.8;\" x=\"321.296215\" xlink:href=\"#m14146e9cac\" y=\"239.758125\"/>\r\n      </g>\r\n     </g>\r\n     <g id=\"text_5\">\r\n      <!-- 7 -->\r\n      <g transform=\"translate(318.114965 254.356563)scale(0.1 -0.1)\">\r\n       <defs>\r\n        <path d=\"M 8.203125 72.90625 \r\nL 55.078125 72.90625 \r\nL 55.078125 68.703125 \r\nL 28.609375 0 \r\nL 18.3125 0 \r\nL 43.21875 64.59375 \r\nL 8.203125 64.59375 \r\nz\r\n\" id=\"DejaVuSans-55\"/>\r\n       </defs>\r\n       <use xlink:href=\"#DejaVuSans-55\"/>\r\n      </g>\r\n     </g>\r\n    </g>\r\n   </g>\r\n   <g id=\"matplotlib.axis_2\">\r\n    <g id=\"ytick_1\">\r\n     <g id=\"line2d_6\">\r\n      <defs>\r\n       <path d=\"M 0 0 \r\nL -3.5 0 \r\n\" id=\"me6a6216b15\" style=\"stroke:#000000;stroke-width:0.8;\"/>\r\n      </defs>\r\n      <g>\r\n       <use style=\"stroke:#000000;stroke-width:0.8;\" x=\"38.482813\" xlink:href=\"#me6a6216b15\" y=\"221.72959\"/>\r\n      </g>\r\n     </g>\r\n     <g id=\"text_6\">\r\n      <!-- −1.0 -->\r\n      <g transform=\"translate(7.2 225.528808)scale(0.1 -0.1)\">\r\n       <defs>\r\n        <path d=\"M 10.59375 35.5 \r\nL 73.1875 35.5 \r\nL 73.1875 27.203125 \r\nL 10.59375 27.203125 \r\nz\r\n\" id=\"DejaVuSans-8722\"/>\r\n        <path d=\"M 12.40625 8.296875 \r\nL 28.515625 8.296875 \r\nL 28.515625 63.921875 \r\nL 10.984375 60.40625 \r\nL 10.984375 69.390625 \r\nL 28.421875 72.90625 \r\nL 38.28125 72.90625 \r\nL 38.28125 8.296875 \r\nL 54.390625 8.296875 \r\nL 54.390625 0 \r\nL 12.40625 0 \r\nz\r\n\" id=\"DejaVuSans-49\"/>\r\n        <path d=\"M 10.6875 12.40625 \r\nL 21 12.40625 \r\nL 21 0 \r\nL 10.6875 0 \r\nz\r\n\" id=\"DejaVuSans-46\"/>\r\n        <path d=\"M 31.78125 66.40625 \r\nQ 24.171875 66.40625 20.328125 58.90625 \r\nQ 16.5 51.421875 16.5 36.375 \r\nQ 16.5 21.390625 20.328125 13.890625 \r\nQ 24.171875 6.390625 31.78125 6.390625 \r\nQ 39.453125 6.390625 43.28125 13.890625 \r\nQ 47.125 21.390625 47.125 36.375 \r\nQ 47.125 51.421875 43.28125 58.90625 \r\nQ 39.453125 66.40625 31.78125 66.40625 \r\nz\r\nM 31.78125 74.21875 \r\nQ 44.046875 74.21875 50.515625 64.515625 \r\nQ 56.984375 54.828125 56.984375 36.375 \r\nQ 56.984375 17.96875 50.515625 8.265625 \r\nQ 44.046875 -1.421875 31.78125 -1.421875 \r\nQ 19.53125 -1.421875 13.0625 8.265625 \r\nQ 6.59375 17.96875 6.59375 36.375 \r\nQ 6.59375 54.828125 13.0625 64.515625 \r\nQ 19.53125 74.21875 31.78125 74.21875 \r\nz\r\n\" id=\"DejaVuSans-48\"/>\r\n       </defs>\r\n       <use xlink:href=\"#DejaVuSans-8722\"/>\r\n       <use x=\"83.789062\" xlink:href=\"#DejaVuSans-49\"/>\r\n       <use x=\"147.412109\" xlink:href=\"#DejaVuSans-46\"/>\r\n       <use x=\"179.199219\" xlink:href=\"#DejaVuSans-48\"/>\r\n      </g>\r\n     </g>\r\n    </g>\r\n    <g id=\"ytick_2\">\r\n     <g id=\"line2d_7\">\r\n      <g>\r\n       <use style=\"stroke:#000000;stroke-width:0.8;\" x=\"38.482813\" xlink:href=\"#me6a6216b15\" y=\"187.628478\"/>\r\n      </g>\r\n     </g>\r\n     <g id=\"text_7\">\r\n      <!-- −0.5 -->\r\n      <g transform=\"translate(7.2 191.427697)scale(0.1 -0.1)\">\r\n       <use xlink:href=\"#DejaVuSans-8722\"/>\r\n       <use x=\"83.789062\" xlink:href=\"#DejaVuSans-48\"/>\r\n       <use x=\"147.412109\" xlink:href=\"#DejaVuSans-46\"/>\r\n       <use x=\"179.199219\" xlink:href=\"#DejaVuSans-53\"/>\r\n      </g>\r\n     </g>\r\n    </g>\r\n    <g id=\"ytick_3\">\r\n     <g id=\"line2d_8\">\r\n      <g>\r\n       <use style=\"stroke:#000000;stroke-width:0.8;\" x=\"38.482813\" xlink:href=\"#me6a6216b15\" y=\"153.527366\"/>\r\n      </g>\r\n     </g>\r\n     <g id=\"text_8\">\r\n      <!-- 0.0 -->\r\n      <g transform=\"translate(15.579688 157.326585)scale(0.1 -0.1)\">\r\n       <use xlink:href=\"#DejaVuSans-48\"/>\r\n       <use x=\"63.623047\" xlink:href=\"#DejaVuSans-46\"/>\r\n       <use x=\"95.410156\" xlink:href=\"#DejaVuSans-48\"/>\r\n      </g>\r\n     </g>\r\n    </g>\r\n    <g id=\"ytick_4\">\r\n     <g id=\"line2d_9\">\r\n      <g>\r\n       <use style=\"stroke:#000000;stroke-width:0.8;\" x=\"38.482813\" xlink:href=\"#me6a6216b15\" y=\"119.426255\"/>\r\n      </g>\r\n     </g>\r\n     <g id=\"text_9\">\r\n      <!-- 0.5 -->\r\n      <g transform=\"translate(15.579688 123.225474)scale(0.1 -0.1)\">\r\n       <use xlink:href=\"#DejaVuSans-48\"/>\r\n       <use x=\"63.623047\" xlink:href=\"#DejaVuSans-46\"/>\r\n       <use x=\"95.410156\" xlink:href=\"#DejaVuSans-53\"/>\r\n      </g>\r\n     </g>\r\n    </g>\r\n    <g id=\"ytick_5\">\r\n     <g id=\"line2d_10\">\r\n      <g>\r\n       <use style=\"stroke:#000000;stroke-width:0.8;\" x=\"38.482813\" xlink:href=\"#me6a6216b15\" y=\"85.325143\"/>\r\n      </g>\r\n     </g>\r\n     <g id=\"text_10\">\r\n      <!-- 1.0 -->\r\n      <g transform=\"translate(15.579688 89.124362)scale(0.1 -0.1)\">\r\n       <use xlink:href=\"#DejaVuSans-49\"/>\r\n       <use x=\"63.623047\" xlink:href=\"#DejaVuSans-46\"/>\r\n       <use x=\"95.410156\" xlink:href=\"#DejaVuSans-48\"/>\r\n      </g>\r\n     </g>\r\n    </g>\r\n    <g id=\"ytick_6\">\r\n     <g id=\"line2d_11\">\r\n      <g>\r\n       <use style=\"stroke:#000000;stroke-width:0.8;\" x=\"38.482813\" xlink:href=\"#me6a6216b15\" y=\"51.224032\"/>\r\n      </g>\r\n     </g>\r\n     <g id=\"text_11\">\r\n      <!-- 1.5 -->\r\n      <g transform=\"translate(15.579688 55.023251)scale(0.1 -0.1)\">\r\n       <use xlink:href=\"#DejaVuSans-49\"/>\r\n       <use x=\"63.623047\" xlink:href=\"#DejaVuSans-46\"/>\r\n       <use x=\"95.410156\" xlink:href=\"#DejaVuSans-53\"/>\r\n      </g>\r\n     </g>\r\n    </g>\r\n   </g>\r\n   <g id=\"LineCollection_1\">\r\n    <path clip-path=\"url(#pc9fc2cdb13)\" d=\"M 83.057827 153.527366 \r\nL 358.064631 153.527366 \r\n\" style=\"fill:none;stroke:#1f77b4;stroke-width:1.5;\"/>\r\n   </g>\r\n   <g id=\"patch_3\">\r\n    <path d=\"M 38.482813 239.758125 \r\nL 38.482813 22.318125 \r\n\" style=\"fill:none;stroke:#000000;stroke-linecap:square;stroke-linejoin:miter;stroke-width:0.8;\"/>\r\n   </g>\r\n   <g id=\"patch_4\">\r\n    <path d=\"M 373.282813 239.758125 \r\nL 373.282813 22.318125 \r\n\" style=\"fill:none;stroke:#000000;stroke-linecap:square;stroke-linejoin:miter;stroke-width:0.8;\"/>\r\n   </g>\r\n   <g id=\"patch_5\">\r\n    <path d=\"M 38.482813 239.758125 \r\nL 373.282813 239.758125 \r\n\" style=\"fill:none;stroke:#000000;stroke-linecap:square;stroke-linejoin:miter;stroke-width:0.8;\"/>\r\n   </g>\r\n   <g id=\"patch_6\">\r\n    <path d=\"M 38.482813 22.318125 \r\nL 373.282813 22.318125 \r\n\" style=\"fill:none;stroke:#000000;stroke-linecap:square;stroke-linejoin:miter;stroke-width:0.8;\"/>\r\n   </g>\r\n   <g id=\"text_12\">\r\n    <!-- Residual Plot -->\r\n    <g transform=\"translate(167.329062 16.318125)scale(0.12 -0.12)\">\r\n     <defs>\r\n      <path d=\"M 44.390625 34.1875 \r\nQ 47.5625 33.109375 50.5625 29.59375 \r\nQ 53.5625 26.078125 56.59375 19.921875 \r\nL 66.609375 0 \r\nL 56 0 \r\nL 46.6875 18.703125 \r\nQ 43.0625 26.03125 39.671875 28.421875 \r\nQ 36.28125 30.8125 30.421875 30.8125 \r\nL 19.671875 30.8125 \r\nL 19.671875 0 \r\nL 9.8125 0 \r\nL 9.8125 72.90625 \r\nL 32.078125 72.90625 \r\nQ 44.578125 72.90625 50.734375 67.671875 \r\nQ 56.890625 62.453125 56.890625 51.90625 \r\nQ 56.890625 45.015625 53.6875 40.46875 \r\nQ 50.484375 35.9375 44.390625 34.1875 \r\nz\r\nM 19.671875 64.796875 \r\nL 19.671875 38.921875 \r\nL 32.078125 38.921875 \r\nQ 39.203125 38.921875 42.84375 42.21875 \r\nQ 46.484375 45.515625 46.484375 51.90625 \r\nQ 46.484375 58.296875 42.84375 61.546875 \r\nQ 39.203125 64.796875 32.078125 64.796875 \r\nz\r\n\" id=\"DejaVuSans-82\"/>\r\n      <path d=\"M 56.203125 29.59375 \r\nL 56.203125 25.203125 \r\nL 14.890625 25.203125 \r\nQ 15.484375 15.921875 20.484375 11.0625 \r\nQ 25.484375 6.203125 34.421875 6.203125 \r\nQ 39.59375 6.203125 44.453125 7.46875 \r\nQ 49.3125 8.734375 54.109375 11.28125 \r\nL 54.109375 2.78125 \r\nQ 49.265625 0.734375 44.1875 -0.34375 \r\nQ 39.109375 -1.421875 33.890625 -1.421875 \r\nQ 20.796875 -1.421875 13.15625 6.1875 \r\nQ 5.515625 13.8125 5.515625 26.8125 \r\nQ 5.515625 40.234375 12.765625 48.109375 \r\nQ 20.015625 56 32.328125 56 \r\nQ 43.359375 56 49.78125 48.890625 \r\nQ 56.203125 41.796875 56.203125 29.59375 \r\nz\r\nM 47.21875 32.234375 \r\nQ 47.125 39.59375 43.09375 43.984375 \r\nQ 39.0625 48.390625 32.421875 48.390625 \r\nQ 24.90625 48.390625 20.390625 44.140625 \r\nQ 15.875 39.890625 15.1875 32.171875 \r\nz\r\n\" id=\"DejaVuSans-101\"/>\r\n      <path d=\"M 44.28125 53.078125 \r\nL 44.28125 44.578125 \r\nQ 40.484375 46.53125 36.375 47.5 \r\nQ 32.28125 48.484375 27.875 48.484375 \r\nQ 21.1875 48.484375 17.84375 46.4375 \r\nQ 14.5 44.390625 14.5 40.28125 \r\nQ 14.5 37.15625 16.890625 35.375 \r\nQ 19.28125 33.59375 26.515625 31.984375 \r\nL 29.59375 31.296875 \r\nQ 39.15625 29.25 43.1875 25.515625 \r\nQ 47.21875 21.78125 47.21875 15.09375 \r\nQ 47.21875 7.46875 41.1875 3.015625 \r\nQ 35.15625 -1.421875 24.609375 -1.421875 \r\nQ 20.21875 -1.421875 15.453125 -0.5625 \r\nQ 10.6875 0.296875 5.421875 2 \r\nL 5.421875 11.28125 \r\nQ 10.40625 8.6875 15.234375 7.390625 \r\nQ 20.0625 6.109375 24.8125 6.109375 \r\nQ 31.15625 6.109375 34.5625 8.28125 \r\nQ 37.984375 10.453125 37.984375 14.40625 \r\nQ 37.984375 18.0625 35.515625 20.015625 \r\nQ 33.0625 21.96875 24.703125 23.78125 \r\nL 21.578125 24.515625 \r\nQ 13.234375 26.265625 9.515625 29.90625 \r\nQ 5.8125 33.546875 5.8125 39.890625 \r\nQ 5.8125 47.609375 11.28125 51.796875 \r\nQ 16.75 56 26.8125 56 \r\nQ 31.78125 56 36.171875 55.265625 \r\nQ 40.578125 54.546875 44.28125 53.078125 \r\nz\r\n\" id=\"DejaVuSans-115\"/>\r\n      <path d=\"M 9.421875 54.6875 \r\nL 18.40625 54.6875 \r\nL 18.40625 0 \r\nL 9.421875 0 \r\nz\r\nM 9.421875 75.984375 \r\nL 18.40625 75.984375 \r\nL 18.40625 64.59375 \r\nL 9.421875 64.59375 \r\nz\r\n\" id=\"DejaVuSans-105\"/>\r\n      <path d=\"M 45.40625 46.390625 \r\nL 45.40625 75.984375 \r\nL 54.390625 75.984375 \r\nL 54.390625 0 \r\nL 45.40625 0 \r\nL 45.40625 8.203125 \r\nQ 42.578125 3.328125 38.25 0.953125 \r\nQ 33.9375 -1.421875 27.875 -1.421875 \r\nQ 17.96875 -1.421875 11.734375 6.484375 \r\nQ 5.515625 14.40625 5.515625 27.296875 \r\nQ 5.515625 40.1875 11.734375 48.09375 \r\nQ 17.96875 56 27.875 56 \r\nQ 33.9375 56 38.25 53.625 \r\nQ 42.578125 51.265625 45.40625 46.390625 \r\nz\r\nM 14.796875 27.296875 \r\nQ 14.796875 17.390625 18.875 11.75 \r\nQ 22.953125 6.109375 30.078125 6.109375 \r\nQ 37.203125 6.109375 41.296875 11.75 \r\nQ 45.40625 17.390625 45.40625 27.296875 \r\nQ 45.40625 37.203125 41.296875 42.84375 \r\nQ 37.203125 48.484375 30.078125 48.484375 \r\nQ 22.953125 48.484375 18.875 42.84375 \r\nQ 14.796875 37.203125 14.796875 27.296875 \r\nz\r\n\" id=\"DejaVuSans-100\"/>\r\n      <path d=\"M 8.5 21.578125 \r\nL 8.5 54.6875 \r\nL 17.484375 54.6875 \r\nL 17.484375 21.921875 \r\nQ 17.484375 14.15625 20.5 10.265625 \r\nQ 23.53125 6.390625 29.59375 6.390625 \r\nQ 36.859375 6.390625 41.078125 11.03125 \r\nQ 45.3125 15.671875 45.3125 23.6875 \r\nL 45.3125 54.6875 \r\nL 54.296875 54.6875 \r\nL 54.296875 0 \r\nL 45.3125 0 \r\nL 45.3125 8.40625 \r\nQ 42.046875 3.421875 37.71875 1 \r\nQ 33.40625 -1.421875 27.6875 -1.421875 \r\nQ 18.265625 -1.421875 13.375 4.4375 \r\nQ 8.5 10.296875 8.5 21.578125 \r\nz\r\nM 31.109375 56 \r\nz\r\n\" id=\"DejaVuSans-117\"/>\r\n      <path d=\"M 34.28125 27.484375 \r\nQ 23.390625 27.484375 19.1875 25 \r\nQ 14.984375 22.515625 14.984375 16.5 \r\nQ 14.984375 11.71875 18.140625 8.90625 \r\nQ 21.296875 6.109375 26.703125 6.109375 \r\nQ 34.1875 6.109375 38.703125 11.40625 \r\nQ 43.21875 16.703125 43.21875 25.484375 \r\nL 43.21875 27.484375 \r\nz\r\nM 52.203125 31.203125 \r\nL 52.203125 0 \r\nL 43.21875 0 \r\nL 43.21875 8.296875 \r\nQ 40.140625 3.328125 35.546875 0.953125 \r\nQ 30.953125 -1.421875 24.3125 -1.421875 \r\nQ 15.921875 -1.421875 10.953125 3.296875 \r\nQ 6 8.015625 6 15.921875 \r\nQ 6 25.140625 12.171875 29.828125 \r\nQ 18.359375 34.515625 30.609375 34.515625 \r\nL 43.21875 34.515625 \r\nL 43.21875 35.40625 \r\nQ 43.21875 41.609375 39.140625 45 \r\nQ 35.0625 48.390625 27.6875 48.390625 \r\nQ 23 48.390625 18.546875 47.265625 \r\nQ 14.109375 46.140625 10.015625 43.890625 \r\nL 10.015625 52.203125 \r\nQ 14.9375 54.109375 19.578125 55.046875 \r\nQ 24.21875 56 28.609375 56 \r\nQ 40.484375 56 46.34375 49.84375 \r\nQ 52.203125 43.703125 52.203125 31.203125 \r\nz\r\n\" id=\"DejaVuSans-97\"/>\r\n      <path d=\"M 9.421875 75.984375 \r\nL 18.40625 75.984375 \r\nL 18.40625 0 \r\nL 9.421875 0 \r\nz\r\n\" id=\"DejaVuSans-108\"/>\r\n      <path id=\"DejaVuSans-32\"/>\r\n      <path d=\"M 19.671875 64.796875 \r\nL 19.671875 37.40625 \r\nL 32.078125 37.40625 \r\nQ 38.96875 37.40625 42.71875 40.96875 \r\nQ 46.484375 44.53125 46.484375 51.125 \r\nQ 46.484375 57.671875 42.71875 61.234375 \r\nQ 38.96875 64.796875 32.078125 64.796875 \r\nz\r\nM 9.8125 72.90625 \r\nL 32.078125 72.90625 \r\nQ 44.34375 72.90625 50.609375 67.359375 \r\nQ 56.890625 61.8125 56.890625 51.125 \r\nQ 56.890625 40.328125 50.609375 34.8125 \r\nQ 44.34375 29.296875 32.078125 29.296875 \r\nL 19.671875 29.296875 \r\nL 19.671875 0 \r\nL 9.8125 0 \r\nz\r\n\" id=\"DejaVuSans-80\"/>\r\n      <path d=\"M 30.609375 48.390625 \r\nQ 23.390625 48.390625 19.1875 42.75 \r\nQ 14.984375 37.109375 14.984375 27.296875 \r\nQ 14.984375 17.484375 19.15625 11.84375 \r\nQ 23.34375 6.203125 30.609375 6.203125 \r\nQ 37.796875 6.203125 41.984375 11.859375 \r\nQ 46.1875 17.53125 46.1875 27.296875 \r\nQ 46.1875 37.015625 41.984375 42.703125 \r\nQ 37.796875 48.390625 30.609375 48.390625 \r\nz\r\nM 30.609375 56 \r\nQ 42.328125 56 49.015625 48.375 \r\nQ 55.71875 40.765625 55.71875 27.296875 \r\nQ 55.71875 13.875 49.015625 6.21875 \r\nQ 42.328125 -1.421875 30.609375 -1.421875 \r\nQ 18.84375 -1.421875 12.171875 6.21875 \r\nQ 5.515625 13.875 5.515625 27.296875 \r\nQ 5.515625 40.765625 12.171875 48.375 \r\nQ 18.84375 56 30.609375 56 \r\nz\r\n\" id=\"DejaVuSans-111\"/>\r\n      <path d=\"M 18.3125 70.21875 \r\nL 18.3125 54.6875 \r\nL 36.8125 54.6875 \r\nL 36.8125 47.703125 \r\nL 18.3125 47.703125 \r\nL 18.3125 18.015625 \r\nQ 18.3125 11.328125 20.140625 9.421875 \r\nQ 21.96875 7.515625 27.59375 7.515625 \r\nL 36.8125 7.515625 \r\nL 36.8125 0 \r\nL 27.59375 0 \r\nQ 17.1875 0 13.234375 3.875 \r\nQ 9.28125 7.765625 9.28125 18.015625 \r\nL 9.28125 47.703125 \r\nL 2.6875 47.703125 \r\nL 2.6875 54.6875 \r\nL 9.28125 54.6875 \r\nL 9.28125 70.21875 \r\nz\r\n\" id=\"DejaVuSans-116\"/>\r\n     </defs>\r\n     <use xlink:href=\"#DejaVuSans-82\"/>\r\n     <use x=\"64.982422\" xlink:href=\"#DejaVuSans-101\"/>\r\n     <use x=\"126.505859\" xlink:href=\"#DejaVuSans-115\"/>\r\n     <use x=\"178.605469\" xlink:href=\"#DejaVuSans-105\"/>\r\n     <use x=\"206.388672\" xlink:href=\"#DejaVuSans-100\"/>\r\n     <use x=\"269.865234\" xlink:href=\"#DejaVuSans-117\"/>\r\n     <use x=\"333.244141\" xlink:href=\"#DejaVuSans-97\"/>\r\n     <use x=\"394.523438\" xlink:href=\"#DejaVuSans-108\"/>\r\n     <use x=\"422.306641\" xlink:href=\"#DejaVuSans-32\"/>\r\n     <use x=\"454.09375\" xlink:href=\"#DejaVuSans-80\"/>\r\n     <use x=\"514.396484\" xlink:href=\"#DejaVuSans-108\"/>\r\n     <use x=\"542.179688\" xlink:href=\"#DejaVuSans-111\"/>\r\n     <use x=\"603.361328\" xlink:href=\"#DejaVuSans-116\"/>\r\n    </g>\r\n   </g>\r\n   <g id=\"legend_1\">\r\n    <g id=\"patch_7\">\r\n     <path d=\"M 267.776563 59.674375 \r\nL 366.282813 59.674375 \r\nQ 368.282813 59.674375 368.282813 57.674375 \r\nL 368.282813 29.318125 \r\nQ 368.282813 27.318125 366.282813 27.318125 \r\nL 267.776563 27.318125 \r\nQ 265.776563 27.318125 265.776563 29.318125 \r\nL 265.776563 57.674375 \r\nQ 265.776563 59.674375 267.776563 59.674375 \r\nz\r\n\" style=\"fill:#ffffff;opacity:0.8;stroke:#cccccc;stroke-linejoin:miter;\"/>\r\n    </g>\r\n    <g id=\"PathCollection_3\">\r\n     <g>\r\n      <use style=\"fill:#0000ff;stroke:#0000ff;\" x=\"279.776563\" xlink:href=\"#maa2f85cad6\" y=\"36.291562\"/>\r\n     </g>\r\n    </g>\r\n    <g id=\"text_13\">\r\n     <!-- Training Data -->\r\n     <g transform=\"translate(297.776563 38.916562)scale(0.1 -0.1)\">\r\n      <defs>\r\n       <path d=\"M -0.296875 72.90625 \r\nL 61.375 72.90625 \r\nL 61.375 64.59375 \r\nL 35.5 64.59375 \r\nL 35.5 0 \r\nL 25.59375 0 \r\nL 25.59375 64.59375 \r\nL -0.296875 64.59375 \r\nz\r\n\" id=\"DejaVuSans-84\"/>\r\n       <path d=\"M 41.109375 46.296875 \r\nQ 39.59375 47.171875 37.8125 47.578125 \r\nQ 36.03125 48 33.890625 48 \r\nQ 26.265625 48 22.1875 43.046875 \r\nQ 18.109375 38.09375 18.109375 28.8125 \r\nL 18.109375 0 \r\nL 9.078125 0 \r\nL 9.078125 54.6875 \r\nL 18.109375 54.6875 \r\nL 18.109375 46.1875 \r\nQ 20.953125 51.171875 25.484375 53.578125 \r\nQ 30.03125 56 36.53125 56 \r\nQ 37.453125 56 38.578125 55.875 \r\nQ 39.703125 55.765625 41.0625 55.515625 \r\nz\r\n\" id=\"DejaVuSans-114\"/>\r\n       <path d=\"M 54.890625 33.015625 \r\nL 54.890625 0 \r\nL 45.90625 0 \r\nL 45.90625 32.71875 \r\nQ 45.90625 40.484375 42.875 44.328125 \r\nQ 39.84375 48.1875 33.796875 48.1875 \r\nQ 26.515625 48.1875 22.3125 43.546875 \r\nQ 18.109375 38.921875 18.109375 30.90625 \r\nL 18.109375 0 \r\nL 9.078125 0 \r\nL 9.078125 54.6875 \r\nL 18.109375 54.6875 \r\nL 18.109375 46.1875 \r\nQ 21.34375 51.125 25.703125 53.5625 \r\nQ 30.078125 56 35.796875 56 \r\nQ 45.21875 56 50.046875 50.171875 \r\nQ 54.890625 44.34375 54.890625 33.015625 \r\nz\r\n\" id=\"DejaVuSans-110\"/>\r\n       <path d=\"M 45.40625 27.984375 \r\nQ 45.40625 37.75 41.375 43.109375 \r\nQ 37.359375 48.484375 30.078125 48.484375 \r\nQ 22.859375 48.484375 18.828125 43.109375 \r\nQ 14.796875 37.75 14.796875 27.984375 \r\nQ 14.796875 18.265625 18.828125 12.890625 \r\nQ 22.859375 7.515625 30.078125 7.515625 \r\nQ 37.359375 7.515625 41.375 12.890625 \r\nQ 45.40625 18.265625 45.40625 27.984375 \r\nz\r\nM 54.390625 6.78125 \r\nQ 54.390625 -7.171875 48.1875 -13.984375 \r\nQ 42 -20.796875 29.203125 -20.796875 \r\nQ 24.46875 -20.796875 20.265625 -20.09375 \r\nQ 16.0625 -19.390625 12.109375 -17.921875 \r\nL 12.109375 -9.1875 \r\nQ 16.0625 -11.328125 19.921875 -12.34375 \r\nQ 23.78125 -13.375 27.78125 -13.375 \r\nQ 36.625 -13.375 41.015625 -8.765625 \r\nQ 45.40625 -4.15625 45.40625 5.171875 \r\nL 45.40625 9.625 \r\nQ 42.625 4.78125 38.28125 2.390625 \r\nQ 33.9375 0 27.875 0 \r\nQ 17.828125 0 11.671875 7.65625 \r\nQ 5.515625 15.328125 5.515625 27.984375 \r\nQ 5.515625 40.671875 11.671875 48.328125 \r\nQ 17.828125 56 27.875 56 \r\nQ 33.9375 56 38.28125 53.609375 \r\nQ 42.625 51.21875 45.40625 46.390625 \r\nL 45.40625 54.6875 \r\nL 54.390625 54.6875 \r\nz\r\n\" id=\"DejaVuSans-103\"/>\r\n       <path d=\"M 19.671875 64.796875 \r\nL 19.671875 8.109375 \r\nL 31.59375 8.109375 \r\nQ 46.6875 8.109375 53.6875 14.9375 \r\nQ 60.6875 21.78125 60.6875 36.53125 \r\nQ 60.6875 51.171875 53.6875 57.984375 \r\nQ 46.6875 64.796875 31.59375 64.796875 \r\nz\r\nM 9.8125 72.90625 \r\nL 30.078125 72.90625 \r\nQ 51.265625 72.90625 61.171875 64.09375 \r\nQ 71.09375 55.28125 71.09375 36.53125 \r\nQ 71.09375 17.671875 61.125 8.828125 \r\nQ 51.171875 0 30.078125 0 \r\nL 9.8125 0 \r\nz\r\n\" id=\"DejaVuSans-68\"/>\r\n      </defs>\r\n      <use xlink:href=\"#DejaVuSans-84\"/>\r\n      <use x=\"46.333984\" xlink:href=\"#DejaVuSans-114\"/>\r\n      <use x=\"87.447266\" xlink:href=\"#DejaVuSans-97\"/>\r\n      <use x=\"148.726562\" xlink:href=\"#DejaVuSans-105\"/>\r\n      <use x=\"176.509766\" xlink:href=\"#DejaVuSans-110\"/>\r\n      <use x=\"239.888672\" xlink:href=\"#DejaVuSans-105\"/>\r\n      <use x=\"267.671875\" xlink:href=\"#DejaVuSans-110\"/>\r\n      <use x=\"331.050781\" xlink:href=\"#DejaVuSans-103\"/>\r\n      <use x=\"394.527344\" xlink:href=\"#DejaVuSans-32\"/>\r\n      <use x=\"426.314453\" xlink:href=\"#DejaVuSans-68\"/>\r\n      <use x=\"503.316406\" xlink:href=\"#DejaVuSans-97\"/>\r\n      <use x=\"564.595703\" xlink:href=\"#DejaVuSans-116\"/>\r\n      <use x=\"603.804688\" xlink:href=\"#DejaVuSans-97\"/>\r\n     </g>\r\n    </g>\r\n    <g id=\"PathCollection_4\">\r\n     <g>\r\n      <use style=\"fill:#ffa500;stroke:#ffa500;\" x=\"279.776563\" xlink:href=\"#m2d8c7acd87\" y=\"50.969687\"/>\r\n     </g>\r\n    </g>\r\n    <g id=\"text_14\">\r\n     <!-- Testing Data -->\r\n     <g transform=\"translate(297.776563 53.594687)scale(0.1 -0.1)\">\r\n      <use xlink:href=\"#DejaVuSans-84\"/>\r\n      <use x=\"44.083984\" xlink:href=\"#DejaVuSans-101\"/>\r\n      <use x=\"105.607422\" xlink:href=\"#DejaVuSans-115\"/>\r\n      <use x=\"157.707031\" xlink:href=\"#DejaVuSans-116\"/>\r\n      <use x=\"196.916016\" xlink:href=\"#DejaVuSans-105\"/>\r\n      <use x=\"224.699219\" xlink:href=\"#DejaVuSans-110\"/>\r\n      <use x=\"288.078125\" xlink:href=\"#DejaVuSans-103\"/>\r\n      <use x=\"351.554688\" xlink:href=\"#DejaVuSans-32\"/>\r\n      <use x=\"383.341797\" xlink:href=\"#DejaVuSans-68\"/>\r\n      <use x=\"460.34375\" xlink:href=\"#DejaVuSans-97\"/>\r\n      <use x=\"521.623047\" xlink:href=\"#DejaVuSans-116\"/>\r\n      <use x=\"560.832031\" xlink:href=\"#DejaVuSans-97\"/>\r\n     </g>\r\n    </g>\r\n   </g>\r\n  </g>\r\n </g>\r\n <defs>\r\n  <clipPath id=\"pc9fc2cdb13\">\r\n   <rect height=\"217.44\" width=\"334.8\" x=\"38.482813\" y=\"22.318125\"/>\r\n  </clipPath>\r\n </defs>\r\n</svg>\r\n",
      "image/png": "[encoded data removed]"
     },
     "metadata": {
      "needs_background": "light"
     }
    }
   ],
   "source": [
    "### BEGIN SOLUTION\n",
    "plt.scatter(model.predict(X_train), model.predict(X_train) - y_train, c=\"blue\", label=\"Training Data\")\n",
    "plt.scatter(model.predict(X_test), model.predict(X_test) - y_test, c=\"orange\", label=\"Testing Data\")\n",
    "plt.legend()\n",
    "plt.hlines(y=0, xmin=y.min(), xmax=y.max())\n",
    "plt.title(\"Residual Plot\")\n",
    "### END SOLUTION\n",
    "# from mpl_toolkits.mplot3d import Axes3D\n",
    "# fig = plt.figure(1, figsize=(5, 5))\n",
    "# axes = Axes3D(fig, elev=20, azim=45)\n",
    "# axes.scatter(X[:,0], X[:,1], X[:,2], X[:,3], X[:,4], X[:,5], c=y, cmap=plt.cm.get_cmap(\"Spectral\"))\n",
    "# plt.show()"
   ]
  },
  {
   "cell_type": "code",
   "execution_count": 17,
   "metadata": {},
   "outputs": [
    {
     "output_type": "stream",
     "name": "stdout",
     "text": [
      "Weight coefficients:  [[0.92288116 1.14897725 0.88895708 1.67607653 0.5683046  0.35257628]]\ny-axis intercept:  [1.72086485]\n"
     ]
    }
   ],
   "source": [
    "print('Weight coefficients: ', model.coef_)\n",
    "print('y-axis intercept: ', model.intercept_)"
   ]
  },
  {
   "cell_type": "code",
   "execution_count": 18,
   "metadata": {},
   "outputs": [
    {
     "output_type": "stream",
     "name": "stdout",
     "text": [
      "MSE: 0.24021211136856918, R2: 0.7800885236825827\n"
     ]
    }
   ],
   "source": [
    "# LASSO model\n",
    "# Note: Use an alpha of .01 when creating the model for this activity\n",
    "from sklearn.linear_model import Lasso\n",
    "from sklearn.metrics import mean_squared_error\n",
    "\n",
    "### BEGIN SOLUTION\n",
    "lasso = Lasso(alpha=.01).fit(X_train, y_train)\n",
    "\n",
    "predictions = lasso.predict(X_test)\n",
    "\n",
    "MSE = mean_squared_error(y_test, predictions)\n",
    "r2 = lasso.score(X_test, y_test)\n",
    "### END SOLUTION\n",
    "\n",
    "print(f\"MSE: {MSE}, R2: {r2}\")"
   ]
  },
  {
   "cell_type": "code",
   "execution_count": 19,
   "metadata": {},
   "outputs": [
    {
     "output_type": "stream",
     "name": "stdout",
     "text": [
      "MSE: 0.2352119189923762, R2: 0.784666143358189\n"
     ]
    }
   ],
   "source": [
    "# Ridge model\n",
    "# Note: Use an alpha of .01 when creating the model for this activity\n",
    "from sklearn.linear_model import Ridge\n",
    "\n",
    "### BEGIN SOLUTION\n",
    "ridge = Ridge(alpha=.01).fit(X_train, y_train)\n",
    "\n",
    "predictions = ridge.predict(X_test)\n",
    "\n",
    "MSE = mean_squared_error(y_test, predictions)\n",
    "r2 = ridge.score(X_test, y_test)\n",
    "### END SOLUTION\n",
    "\n",
    "print(f\"MSE: {MSE}, R2: {r2}\")"
   ]
  },
  {
   "cell_type": "code",
   "execution_count": 20,
   "metadata": {},
   "outputs": [
    {
     "output_type": "stream",
     "name": "stdout",
     "text": [
      "MSE: 0.23096655834316437, R2: 0.7885527231086811\n"
     ]
    }
   ],
   "source": [
    "# ElasticNet model\n",
    "# Note: Use an alpha of .01 when creating the model for this activity\n",
    "from sklearn.linear_model import ElasticNet\n",
    "\n",
    "### BEGIN SOLUTION\n",
    "elasticnet = ElasticNet(alpha=.01).fit(X_train, y_train)\n",
    "\n",
    "predictions = elasticnet.predict(X_test)\n",
    "\n",
    "MSE = mean_squared_error(y_test, predictions)\n",
    "r2 = elasticnet.score(X_test, y_test)\n",
    "### END SOLUTION\n",
    "\n",
    "print(f\"MSE: {MSE}, R2: {r2}\")"
   ]
  },
  {
   "cell_type": "code",
   "execution_count": null,
   "metadata": {},
   "outputs": [],
   "source": []
  }
 ],
 "metadata": {
  "kernelspec": {
   "display_name": "Python 3",
   "language": "python",
   "name": "python3"
  },
  "language_info": {
   "codemirror_mode": {
    "name": "ipython",
    "version": 3
   },
   "file_extension": ".py",
   "mimetype": "text/x-python",
   "name": "python",
   "nbconvert_exporter": "python",
   "pygments_lexer": "ipython3",
   "version": "3.8.5-final"
  }
 },
 "nbformat": 4,
 "nbformat_minor": 4
}